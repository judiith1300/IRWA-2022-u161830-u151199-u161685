{
  "nbformat": 4,
  "nbformat_minor": 0,
  "metadata": {
    "colab": {
      "provenance": [],
      "collapsed_sections": []
    },
    "kernelspec": {
      "name": "python3",
      "display_name": "Python 3"
    },
    "language_info": {
      "name": "python"
    }
  },
  "cells": [
    {
      "cell_type": "markdown",
      "source": [
        "# Information Retrieval and Web Analytics"
      ],
      "metadata": {
        "id": "c5n1R1C76FOZ"
      }
    },
    {
      "cell_type": "markdown",
      "source": [
        "# GROUP NAMES:\n",
        "- Judith Camacho 218863 \n",
        "- Jordi Marín    207552 \n",
        "- Xavier Vives   218900"
      ],
      "metadata": {
        "id": "4f5Y68V06Bc4"
      }
    },
    {
      "cell_type": "markdown",
      "source": [
        "# **Project 1**"
      ],
      "metadata": {
        "id": "zNOEcQEb6JGc"
      }
    },
    {
      "cell_type": "code",
      "execution_count": null,
      "metadata": {
        "colab": {
          "base_uri": "https://localhost:8080/"
        },
        "id": "Q_LLESqJ5AuO",
        "outputId": "661b5ba0-a00b-4408-9430-ad304dfe7287"
      },
      "outputs": [
        {
          "output_type": "stream",
          "name": "stdout",
          "text": [
            "Mounted at /content/drive\n"
          ]
        }
      ],
      "source": [
        "from google.colab import drive\n",
        "drive.mount('/content/drive')"
      ]
    },
    {
      "cell_type": "code",
      "source": [
        "import nltk\n",
        "nltk.download('stopwords')"
      ],
      "metadata": {
        "colab": {
          "base_uri": "https://localhost:8080/"
        },
        "id": "On8t5BuJJ8nF",
        "outputId": "8d56b7bb-09de-4e6f-ff5d-2778cd30801e"
      },
      "execution_count": null,
      "outputs": [
        {
          "output_type": "stream",
          "name": "stderr",
          "text": [
            "[nltk_data] Downloading package stopwords to /root/nltk_data...\n",
            "[nltk_data]   Unzipping corpora/stopwords.zip.\n"
          ]
        },
        {
          "output_type": "execute_result",
          "data": {
            "text/plain": [
              "True"
            ]
          },
          "metadata": {},
          "execution_count": 2
        }
      ]
    },
    {
      "cell_type": "code",
      "source": [
        "from collections import defaultdict\n",
        "from array import array\n",
        "from nltk.stem import PorterStemmer\n",
        "from nltk.corpus import stopwords\n",
        "import math\n",
        "import re\n",
        "import json\n",
        "import pandas as pd\n",
        "from datetime import datetime\n",
        "import numpy as np\n",
        "from ast import literal_eval\n",
        "import collections\n",
        "import time\n",
        "from numpy import linalg as la"
      ],
      "metadata": {
        "id": "dBrWsYOt5Ka9"
      },
      "execution_count": null,
      "outputs": []
    },
    {
      "cell_type": "markdown",
      "source": [
        "We read the data that we preprocessed in the first part of the project."
      ],
      "metadata": {
        "id": "1Lw2nG2_Ylxz"
      }
    },
    {
      "cell_type": "code",
      "source": [
        "data_path = \"/content/drive/Shareddrives/IRWA/Project/Part 2/data/\"\n",
        "docs_path = data_path+'tweet_df.csv'\n",
        "\n",
        "tweet_df = pd.read_csv(docs_path, index_col=[0])\n",
        "tweet_df['processed_text'] = tweet_df['processed_text'].apply(lambda x: literal_eval(x))\n",
        "tweet_df.head()"
      ],
      "metadata": {
        "colab": {
          "base_uri": "https://localhost:8080/",
          "height": 548
        },
        "id": "8aJ5iWKb5Uu8",
        "outputId": "35fc5a55-4497-4da5-9e2b-c8f57932bdb0"
      },
      "execution_count": null,
      "outputs": [
        {
          "output_type": "execute_result",
          "data": {
            "text/plain": [
              "                                                                 Tweet  \\\n",
              "1575918182698979328  So this will keep spinning over us until 7 pm…...   \n",
              "1575918151862304768  Our hearts go out to all those affected by . W...   \n",
              "1575918140839673873    Kissimmee neighborhood off of Michigan Ave. \\n    \n",
              "1575918135009738752  I have this one tree in my backyard that scare...   \n",
              "1575918119251419136           I pray for everyone affected by , but...   \n",
              "\n",
              "                              Username                 Date  \\\n",
              "1575918182698979328               Suz👻  2022-09-30 18:39:08   \n",
              "1575918151862304768               Lytx  2022-09-30 18:39:01   \n",
              "1575918140839673873  Christopher Heath  2022-09-30 18:38:58   \n",
              "1575918135009738752             alex ✨  2022-09-30 18:38:57   \n",
              "1575918119251419136             Tess 💋  2022-09-30 18:38:53   \n",
              "\n",
              "                                     Hashtags  Likes  Retweets  \\\n",
              "1575918182698979328          ['HurricaneIan']      0         0   \n",
              "1575918151862304768          ['HurricaneIan']      0         0   \n",
              "1575918140839673873          ['HurricaneIan']      0         0   \n",
              "1575918135009738752  ['scwx', 'HurricaneIan']      0         0   \n",
              "1575918119251419136          ['HurricaneIan']      0         0   \n",
              "\n",
              "                                                                   Url    Doc  \\\n",
              "1575918182698979328  https://twitter.com/Suz/status/157591818269897...  doc_1   \n",
              "1575918151862304768  https://twitter.com/Lytx/status/15759181518623...  doc_2   \n",
              "1575918140839673873  https://twitter.com/Christopher_Heath/status/1...  doc_3   \n",
              "1575918135009738752  https://twitter.com/alex_/status/1575918135009...  doc_4   \n",
              "1575918119251419136  https://twitter.com/Tess_/status/1575918119251...  doc_5   \n",
              "\n",
              "                                                        processed_text  \n",
              "1575918182698979328           [keep, spin, us, 7, pmgo, away, alreadi]  \n",
              "1575918151862304768  [heart, go, affect, wish, everyon, road, curre...  \n",
              "1575918140839673873            [kissimme, neighborhood, michigan, ave]  \n",
              "1575918135009738752  [one, tree, backyard, scare, poltergeist, tree...  \n",
              "1575918119251419136  [pray, everyon, affect, associ, winknew, sympa...  "
            ],
            "text/html": [
              "\n",
              "  <div id=\"df-42335fff-0b19-432b-a944-5ad9fa2138ce\">\n",
              "    <div class=\"colab-df-container\">\n",
              "      <div>\n",
              "<style scoped>\n",
              "    .dataframe tbody tr th:only-of-type {\n",
              "        vertical-align: middle;\n",
              "    }\n",
              "\n",
              "    .dataframe tbody tr th {\n",
              "        vertical-align: top;\n",
              "    }\n",
              "\n",
              "    .dataframe thead th {\n",
              "        text-align: right;\n",
              "    }\n",
              "</style>\n",
              "<table border=\"1\" class=\"dataframe\">\n",
              "  <thead>\n",
              "    <tr style=\"text-align: right;\">\n",
              "      <th></th>\n",
              "      <th>Tweet</th>\n",
              "      <th>Username</th>\n",
              "      <th>Date</th>\n",
              "      <th>Hashtags</th>\n",
              "      <th>Likes</th>\n",
              "      <th>Retweets</th>\n",
              "      <th>Url</th>\n",
              "      <th>Doc</th>\n",
              "      <th>processed_text</th>\n",
              "    </tr>\n",
              "  </thead>\n",
              "  <tbody>\n",
              "    <tr>\n",
              "      <th>1575918182698979328</th>\n",
              "      <td>So this will keep spinning over us until 7 pm…...</td>\n",
              "      <td>Suz👻</td>\n",
              "      <td>2022-09-30 18:39:08</td>\n",
              "      <td>['HurricaneIan']</td>\n",
              "      <td>0</td>\n",
              "      <td>0</td>\n",
              "      <td>https://twitter.com/Suz/status/157591818269897...</td>\n",
              "      <td>doc_1</td>\n",
              "      <td>[keep, spin, us, 7, pmgo, away, alreadi]</td>\n",
              "    </tr>\n",
              "    <tr>\n",
              "      <th>1575918151862304768</th>\n",
              "      <td>Our hearts go out to all those affected by . W...</td>\n",
              "      <td>Lytx</td>\n",
              "      <td>2022-09-30 18:39:01</td>\n",
              "      <td>['HurricaneIan']</td>\n",
              "      <td>0</td>\n",
              "      <td>0</td>\n",
              "      <td>https://twitter.com/Lytx/status/15759181518623...</td>\n",
              "      <td>doc_2</td>\n",
              "      <td>[heart, go, affect, wish, everyon, road, curre...</td>\n",
              "    </tr>\n",
              "    <tr>\n",
              "      <th>1575918140839673873</th>\n",
              "      <td>Kissimmee neighborhood off of Michigan Ave. \\n</td>\n",
              "      <td>Christopher Heath</td>\n",
              "      <td>2022-09-30 18:38:58</td>\n",
              "      <td>['HurricaneIan']</td>\n",
              "      <td>0</td>\n",
              "      <td>0</td>\n",
              "      <td>https://twitter.com/Christopher_Heath/status/1...</td>\n",
              "      <td>doc_3</td>\n",
              "      <td>[kissimme, neighborhood, michigan, ave]</td>\n",
              "    </tr>\n",
              "    <tr>\n",
              "      <th>1575918135009738752</th>\n",
              "      <td>I have this one tree in my backyard that scare...</td>\n",
              "      <td>alex ✨</td>\n",
              "      <td>2022-09-30 18:38:57</td>\n",
              "      <td>['scwx', 'HurricaneIan']</td>\n",
              "      <td>0</td>\n",
              "      <td>0</td>\n",
              "      <td>https://twitter.com/alex_/status/1575918135009...</td>\n",
              "      <td>doc_4</td>\n",
              "      <td>[one, tree, backyard, scare, poltergeist, tree...</td>\n",
              "    </tr>\n",
              "    <tr>\n",
              "      <th>1575918119251419136</th>\n",
              "      <td>I pray for everyone affected by , but...</td>\n",
              "      <td>Tess 💋</td>\n",
              "      <td>2022-09-30 18:38:53</td>\n",
              "      <td>['HurricaneIan']</td>\n",
              "      <td>0</td>\n",
              "      <td>0</td>\n",
              "      <td>https://twitter.com/Tess_/status/1575918119251...</td>\n",
              "      <td>doc_5</td>\n",
              "      <td>[pray, everyon, affect, associ, winknew, sympa...</td>\n",
              "    </tr>\n",
              "  </tbody>\n",
              "</table>\n",
              "</div>\n",
              "      <button class=\"colab-df-convert\" onclick=\"convertToInteractive('df-42335fff-0b19-432b-a944-5ad9fa2138ce')\"\n",
              "              title=\"Convert this dataframe to an interactive table.\"\n",
              "              style=\"display:none;\">\n",
              "        \n",
              "  <svg xmlns=\"http://www.w3.org/2000/svg\" height=\"24px\"viewBox=\"0 0 24 24\"\n",
              "       width=\"24px\">\n",
              "    <path d=\"M0 0h24v24H0V0z\" fill=\"none\"/>\n",
              "    <path d=\"M18.56 5.44l.94 2.06.94-2.06 2.06-.94-2.06-.94-.94-2.06-.94 2.06-2.06.94zm-11 1L8.5 8.5l.94-2.06 2.06-.94-2.06-.94L8.5 2.5l-.94 2.06-2.06.94zm10 10l.94 2.06.94-2.06 2.06-.94-2.06-.94-.94-2.06-.94 2.06-2.06.94z\"/><path d=\"M17.41 7.96l-1.37-1.37c-.4-.4-.92-.59-1.43-.59-.52 0-1.04.2-1.43.59L10.3 9.45l-7.72 7.72c-.78.78-.78 2.05 0 2.83L4 21.41c.39.39.9.59 1.41.59.51 0 1.02-.2 1.41-.59l7.78-7.78 2.81-2.81c.8-.78.8-2.07 0-2.86zM5.41 20L4 18.59l7.72-7.72 1.47 1.35L5.41 20z\"/>\n",
              "  </svg>\n",
              "      </button>\n",
              "      \n",
              "  <style>\n",
              "    .colab-df-container {\n",
              "      display:flex;\n",
              "      flex-wrap:wrap;\n",
              "      gap: 12px;\n",
              "    }\n",
              "\n",
              "    .colab-df-convert {\n",
              "      background-color: #E8F0FE;\n",
              "      border: none;\n",
              "      border-radius: 50%;\n",
              "      cursor: pointer;\n",
              "      display: none;\n",
              "      fill: #1967D2;\n",
              "      height: 32px;\n",
              "      padding: 0 0 0 0;\n",
              "      width: 32px;\n",
              "    }\n",
              "\n",
              "    .colab-df-convert:hover {\n",
              "      background-color: #E2EBFA;\n",
              "      box-shadow: 0px 1px 2px rgba(60, 64, 67, 0.3), 0px 1px 3px 1px rgba(60, 64, 67, 0.15);\n",
              "      fill: #174EA6;\n",
              "    }\n",
              "\n",
              "    [theme=dark] .colab-df-convert {\n",
              "      background-color: #3B4455;\n",
              "      fill: #D2E3FC;\n",
              "    }\n",
              "\n",
              "    [theme=dark] .colab-df-convert:hover {\n",
              "      background-color: #434B5C;\n",
              "      box-shadow: 0px 1px 3px 1px rgba(0, 0, 0, 0.15);\n",
              "      filter: drop-shadow(0px 1px 2px rgba(0, 0, 0, 0.3));\n",
              "      fill: #FFFFFF;\n",
              "    }\n",
              "  </style>\n",
              "\n",
              "      <script>\n",
              "        const buttonEl =\n",
              "          document.querySelector('#df-42335fff-0b19-432b-a944-5ad9fa2138ce button.colab-df-convert');\n",
              "        buttonEl.style.display =\n",
              "          google.colab.kernel.accessAllowed ? 'block' : 'none';\n",
              "\n",
              "        async function convertToInteractive(key) {\n",
              "          const element = document.querySelector('#df-42335fff-0b19-432b-a944-5ad9fa2138ce');\n",
              "          const dataTable =\n",
              "            await google.colab.kernel.invokeFunction('convertToInteractive',\n",
              "                                                     [key], {});\n",
              "          if (!dataTable) return;\n",
              "\n",
              "          const docLinkHtml = 'Like what you see? Visit the ' +\n",
              "            '<a target=\"_blank\" href=https://colab.research.google.com/notebooks/data_table.ipynb>data table notebook</a>'\n",
              "            + ' to learn more about interactive tables.';\n",
              "          element.innerHTML = '';\n",
              "          dataTable['output_type'] = 'display_data';\n",
              "          await google.colab.output.renderOutput(dataTable, element);\n",
              "          const docLink = document.createElement('div');\n",
              "          docLink.innerHTML = docLinkHtml;\n",
              "          element.appendChild(docLink);\n",
              "        }\n",
              "      </script>\n",
              "    </div>\n",
              "  </div>\n",
              "  "
            ]
          },
          "metadata": {},
          "execution_count": 4
        }
      ]
    },
    {
      "cell_type": "markdown",
      "source": [
        "We copy the function from the previous part because we will used it later."
      ],
      "metadata": {
        "id": "VMA7LVbIYswg"
      }
    },
    {
      "cell_type": "code",
      "source": [
        "def build_terms(tweet_text):\n",
        "    '''\n",
        "    input: the text of a tweet\n",
        "    function: pre-process the text as said above\n",
        "    output: a list of strings of the processed text\n",
        "    '''\n",
        "    stemmer = PorterStemmer()\n",
        "    stop_words = set(stopwords.words(\"english\"))\n",
        "\n",
        "    tweet_text = tweet_text.lower() ## Transform in lowercase\n",
        "    tweet_text = re.sub(r'[^\\w\\s]', '', tweet_text) #remove punctuation marks and hashtags using regex\n",
        "\n",
        "    tweet_text = tweet_text.split() ## Tokenize the text to get a list of terms\n",
        "    tweet_text = [x for x in tweet_text if x not in stop_words]  ##eliminate the stopwords\n",
        "    tweet_text = [stemmer.stem(x) for x in tweet_text] ## perform stemming \n",
        "    return tweet_text"
      ],
      "metadata": {
        "id": "r4sWFjQNXaxZ"
      },
      "execution_count": null,
      "outputs": []
    },
    {
      "cell_type": "markdown",
      "source": [
        "# **Indexing**"
      ],
      "metadata": {
        "id": "49rBS-KPzrGJ"
      }
    },
    {
      "cell_type": "markdown",
      "source": [
        "Once we have preprocessed the text, we create the inverted index modifying the code given in class:\n"
      ],
      "metadata": {
        "id": "o5FppL4GUqQz"
      }
    },
    {
      "cell_type": "markdown",
      "source": [
        "## **PART 1**"
      ],
      "metadata": {
        "id": "JRdr5xXK6OCK"
      }
    },
    {
      "cell_type": "code",
      "source": [
        "def create_index(lines):\n",
        "    \"\"\"\n",
        "    Implement the inverted index\n",
        "    \n",
        "    Argument:\n",
        "    lines -- collection of tweets\n",
        "    \n",
        "    Returns:\n",
        "    index - the inverted index (implemented through a Python dictionary) containing terms as keys and the corresponding\n",
        "    list of documents where these keys appears in (and the positions) as values.\n",
        "    \"\"\"\n",
        "    index = defaultdict(list)\n",
        "\n",
        "    for doc,terms in zip(lines['Doc'].values, lines['processed_text'].values):  # Remember, lines contain all documents from file\n",
        "        ## ===============================================================        \n",
        "        ## create the index for the current page and store it in current_page_index (current_page_index)\n",
        "        ## current_page_index ==> { ‘term1’: [current_doc, [list of positions]], ...,‘term_n’: [current_doc, [list of positions]]}\n",
        "        ## ===============================================================\n",
        "\n",
        "        current_page_index = {}\n",
        "\n",
        "        for position, term in enumerate(terms): # terms contains page_title + page_text. Loop over all terms\n",
        "            try:\n",
        "                # if the term is already in the index for the current page (current_page_index)\n",
        "                # append the position to the corresponding list\n",
        "                current_page_index[term][1].append(position)\n",
        "            except:\n",
        "                # Add the new term as dict key and initialize the array of positions and add the position\n",
        "                current_page_index[term] = [doc, array('I', [position])]  #'I' indicates unsigned int (int in Python)\n",
        "        # merge the current page index with the main index\n",
        "        for term_page, posting_page in current_page_index.items():\n",
        "            index[term_page].append(posting_page)\n",
        "    return index"
      ],
      "metadata": {
        "id": "mtOwAGhi61dV"
      },
      "execution_count": null,
      "outputs": []
    },
    {
      "cell_type": "code",
      "source": [
        "start_time = time.time()\n",
        "index = create_index(tweet_df)\n",
        "print(\"Total time to create the index: {} seconds\".format(np.round(time.time() - start_time, 2)))"
      ],
      "metadata": {
        "id": "pRyT4B4064Qt",
        "colab": {
          "base_uri": "https://localhost:8080/"
        },
        "outputId": "f4dfb143-ad08-4f2a-c6db-9b398cb40360"
      },
      "execution_count": null,
      "outputs": [
        {
          "output_type": "stream",
          "name": "stdout",
          "text": [
            "Total time to create the index: 0.19 seconds\n"
          ]
        }
      ]
    },
    {
      "cell_type": "markdown",
      "source": [
        "## **PART 2**"
      ],
      "metadata": {
        "id": "sYU1tjaSIBfO"
      }
    },
    {
      "cell_type": "markdown",
      "source": [
        "We propose the following 5 queries:\n",
        "\n",
        "- power outage in carolina\n",
        "- school closed\n",
        "- deaths hurricane florida\n",
        "- how to help hurricane\n",
        "- president speech\n",
        "\n",
        "We choose these ones because they could be made by a real user and the results are easy to classify between relevant/non-relevant.\n",
        "\n",
        "\n",
        "\n"
      ],
      "metadata": {
        "id": "nfXZ31AUSXtp"
      }
    },
    {
      "cell_type": "code",
      "source": [
        "queries = ['power outage in carolina',\n",
        "           'school closed',\n",
        "           'deaths hurricane florida',\n",
        "           'how to help hurricane',\n",
        "           'president speech']"
      ],
      "metadata": {
        "id": "2DcNl6LNOam9"
      },
      "execution_count": null,
      "outputs": []
    },
    {
      "cell_type": "markdown",
      "source": [
        "Using the previously defined function build_terms(), we preprocess the queries also \n"
      ],
      "metadata": {
        "id": "E3BCw3brXejh"
      }
    },
    {
      "cell_type": "code",
      "source": [
        "print(\"Insert your query (i.e.: Computer Science):\\n\")\n",
        "query = input()\n",
        "prossesed_query = build_terms(query)\n",
        "\n",
        "print(\"Prossesed Query= {}\".format(prossesed_query))"
      ],
      "metadata": {
        "id": "MPvVpEmlEl67",
        "colab": {
          "base_uri": "https://localhost:8080/"
        },
        "outputId": "d3252aad-6080-47fc-dd77-095ab81d8d00"
      },
      "execution_count": null,
      "outputs": [
        {
          "output_type": "stream",
          "name": "stdout",
          "text": [
            "Insert your query (i.e.: Computer Science):\n",
            "\n",
            "Computer Science\n",
            "Prossesed Query= ['comput', 'scienc']\n"
          ]
        }
      ]
    },
    {
      "cell_type": "markdown",
      "source": [
        "## **PART 3**"
      ],
      "metadata": {
        "id": "t5l6iZt2KtO9"
      }
    },
    {
      "cell_type": "markdown",
      "source": [
        "Next we implement the tf-idf algorithm modifying the code given in class:\n"
      ],
      "metadata": {
        "id": "P6-4MUBUYk2d"
      }
    },
    {
      "cell_type": "code",
      "source": [
        "def create_tfidf(lines, num_documents):\n",
        "    \"\"\"\n",
        "    Implement the inverted index and compute tf, df and idf\n",
        "    \n",
        "    Argument:\n",
        "    lines -- collection of tweets\n",
        "    num_documents -- total number of documents\n",
        "    \n",
        "    Returns:\n",
        "    tf - normalized term frequency for each term in each document\n",
        "    idf - inverse document frequency of each term\n",
        "    \"\"\"\n",
        "\n",
        "    tf = defaultdict(list)  # term frequencies of terms in documents (documents in the same order as in the main index)\n",
        "    df = defaultdict(int)  # document frequencies of terms in the corpus\n",
        "    idf = defaultdict(float)\n",
        "\n",
        "    for doc,terms in zip(lines['Doc'].values, lines['processed_text'].values):\n",
        "        ## ===============================================================        \n",
        "        ## create the index for the **current page** and store it in current_page_index\n",
        "        ## current_page_index ==> { ‘term1’: [current_doc, [list of positions]], ...,‘term_n’: [current_doc, [list of positions]]}\n",
        "        ## ===============================================================\n",
        "\n",
        "        current_page_index = {}\n",
        "\n",
        "        for position, term in enumerate(terms):  ## terms contains page_title + page_text\n",
        "            try:\n",
        "                # if the term is already in the dict append the position to the corresponding list\n",
        "                current_page_index[term][1].append(position)\n",
        "            except:\n",
        "                # Add the new term as dict key and initialize the array of positions and add the position\n",
        "                current_page_index[term]=[doc, array('I',[position])] #'I' indicates unsigned int (int in Python)\n",
        "\n",
        "        #normalize term frequencies\n",
        "        # Compute the denominator to normalize term frequencies (formula 2 above)\n",
        "        # norm is the same for all terms of a document.\n",
        "        norm = 0\n",
        "        for term, posting in current_page_index.items():\n",
        "            # posting will contain the list of positions for current term in current document. \n",
        "            # posting ==> [current_doc, [list of positions]] \n",
        "            # you can use it to infer the frequency of current term.\n",
        "            norm += len(posting[1]) ** 2\n",
        "        norm = math.sqrt(norm)\n",
        "\n",
        "        # calculate the tf(dividing the term frequency by the above computed norm) and df weights\n",
        "        for term, posting in current_page_index.items():\n",
        "            # append the tf for current term (tf = term frequency in current doc/norm)\n",
        "            tf[term].append(np.round(len(posting[1])/norm,4)) ## SEE formula (1) above\n",
        "            #increment the document frequency of current term (number of documents containing the current term)\n",
        "            df[term] += 1 # increment DF for current term\n",
        "\n",
        "        # Compute IDF following the formula (3) above. HINT: use np.log\n",
        "        for term in df:\n",
        "            idf[term] = np.round(np.log(float(num_documents/df[term])), 4)\n",
        "\n",
        "    return tf, idf"
      ],
      "metadata": {
        "id": "fi9DntRfJzjv"
      },
      "execution_count": null,
      "outputs": []
    },
    {
      "cell_type": "code",
      "source": [
        "start_time = time.time()\n",
        "num_documents = len(tweet_df)\n",
        "tf, idf = create_tfidf(tweet_df, num_documents)\n",
        "print(\"Total time to create the index: {} seconds\" .format(np.round(time.time() - start_time, 2)))"
      ],
      "metadata": {
        "colab": {
          "base_uri": "https://localhost:8080/"
        },
        "id": "fMHvYaNlOMQ2",
        "outputId": "ec851b0c-510e-44ea-888e-01d92ea3a489"
      },
      "execution_count": null,
      "outputs": [
        {
          "output_type": "stream",
          "name": "stdout",
          "text": [
            "Total time to create the index: 184.0 seconds\n"
          ]
        }
      ]
    },
    {
      "cell_type": "markdown",
      "source": [
        "### Ranking\n",
        "Now we want to rank. \n",
        "First we want to see which are the top 50 words (50 more popular) with lowest idf value.\n",
        "We do this to be able to decide the final queries we want. Hence, after executing the next cell, we changed our original queries based on the result of the execution."
      ],
      "metadata": {
        "id": "o7bgH7qbG6Uk"
      }
    },
    {
      "cell_type": "code",
      "source": [
        "k = 50\n",
        "\n",
        "sort_df = pd.Series(data=np.fromiter(idf.values(),dtype=float),index=idf.keys())\n",
        "sort_df = sort_df.sort_values()#ascending=False)\n",
        "#sort_df.head(k)"
      ],
      "metadata": {
        "id": "-OGq66-_GMdx"
      },
      "execution_count": null,
      "outputs": []
    },
    {
      "cell_type": "markdown",
      "source": [
        "The function rank_documents() returns the ranked list of documents.\n",
        "The documents on top of the list will be the ones with highest cosine similarity, thus the ones most similar to the query."
      ],
      "metadata": {
        "id": "K9PQuoZFZnP6"
      }
    },
    {
      "cell_type": "code",
      "source": [
        "def rank_documents(terms, docs, index, idf, tf, sorted=True):\n",
        "    \"\"\"\n",
        "    Perform the ranking of the results of a search based on the tf-idf weights\n",
        "    \n",
        "    Argument:\n",
        "    terms -- list of query terms\n",
        "    docs -- list of documents, to rank, matching the query\n",
        "    index -- inverted index data structure\n",
        "    idf -- inverted document frequencies\n",
        "    tf -- term frequencies\n",
        "    sorted -- if we want that the function returns list ordered or not. Yes, by default.\n",
        "    \n",
        "    Returns:\n",
        "    Print the list of ranked documents and the doc_id and its tf-idf value.\n",
        "    \"\"\"\n",
        "\n",
        "    # I'm interested only on the element of the docVector corresponding to the query terms \n",
        "    # The remaining elements would became 0 when multiplied to the query_vector\n",
        "    doc_vectors = defaultdict(lambda: [0] * len(terms)) # I call doc_vectors[k] for a nonexistent key k, the key-value pair (k,[0]*len(terms)) will be automatically added to the dictionary\n",
        "    query_vector = [0] * len(terms)\n",
        "\n",
        "    # compute the norm for the query tf\n",
        "    query_terms_count = collections.Counter(terms)  # get the frequency of each term in the query. \n",
        "\n",
        "    query_norm = la.norm(list(query_terms_count.values()))\n",
        "\n",
        "    for termIndex, term in enumerate(terms):  #termIndex is the index of the term in the query\n",
        "        if term not in index:\n",
        "            continue\n",
        "        ## Compute tf*idf(normalize TF as done with documents)\n",
        "        query_vector[termIndex] = query_terms_count[term] / query_norm * idf[term]\n",
        "\n",
        "        # Generate doc_vectors for matching docs\n",
        "        for doc_index, (doc, postings) in enumerate(index[term]):\n",
        "                     \n",
        "            if doc in docs:\n",
        "                doc_vectors[doc][termIndex] = tf[term][doc_index] * idf[term]  \n",
        "\n",
        "    # Calculate the score of each doc \n",
        "    # compute the cosine similarity between queyVector and each docVector:\n",
        "    \n",
        "    doc_scores = [[np.dot(curDocVec, query_vector), doc] for doc, curDocVec in doc_vectors.items()]\n",
        "    if sorted:\n",
        "      doc_scores.sort(reverse=True)\n",
        "      result_docs = [x[1] for x in doc_scores]\n",
        "      #print document titles instead if document id's\n",
        "      #result_docs=[ title_index[x] for x in result_docs ]\n",
        "      if len(result_docs) == 0:\n",
        "          print(\"No results found, try again\")\n",
        "          query = input()\n",
        "          docs = search_tf_idf(query, index)\n",
        "      #print ('\\n'.join(result_docs), '\\n')\n",
        "    else:\n",
        "      result_docs = []\n",
        "    return result_docs, doc_scores"
      ],
      "metadata": {
        "id": "sRJ_H9D0NoVk"
      },
      "execution_count": null,
      "outputs": []
    },
    {
      "cell_type": "markdown",
      "source": [
        "The following function, search_tf_idf is the \"searching part\". For a given query, it preprocesses it and then returns the list of most relevant documents to that query."
      ],
      "metadata": {
        "id": "ulvOGJ2rah6A"
      }
    },
    {
      "cell_type": "code",
      "source": [
        "def search_tf_idf(query, index):\n",
        "    \"\"\"\n",
        "    Arguments: \n",
        "    - index -- inverted index data structure\n",
        "    - query: query we are interested in\n",
        "    Returns: \n",
        "    The list of documents that contain any of the query terms. \n",
        "    So, we will get the list of documents for each query term, and take the union of them.\n",
        "    \"\"\"\n",
        "    query = build_terms(query)\n",
        "    docs = set()\n",
        "    for term in query:\n",
        "        try:\n",
        "            # store in term_docs the ids of the docs that contain \"term\"                        \n",
        "            term_docs = [posting[0] for posting in index[term]]\n",
        "            \n",
        "            # docs = docs Union term_docs\n",
        "            docs |= set(term_docs)\n",
        "        except:\n",
        "            #term is not in index\n",
        "            pass\n",
        "    docs = list(docs)\n",
        "    ranked_docs,_ = rank_documents(query, docs, index, idf, tf)\n",
        "    return ranked_docs"
      ],
      "metadata": {
        "id": "-okBDZGROJKx"
      },
      "execution_count": null,
      "outputs": []
    },
    {
      "cell_type": "markdown",
      "source": [
        "We sort the dataset by doc_id:"
      ],
      "metadata": {
        "id": "ARoRjGN3bBXQ"
      }
    },
    {
      "cell_type": "code",
      "source": [
        "tweet_df_doc = tweet_df.copy(deep=True)\n",
        "tweet_df_doc = tweet_df_doc.set_index('Doc')\n",
        "tweet_df_doc.head()"
      ],
      "metadata": {
        "colab": {
          "base_uri": "https://localhost:8080/",
          "height": 238
        },
        "id": "UcvhB6hiP45C",
        "outputId": "b6c7085d-4daf-4470-ed2e-fabc1cea20d3"
      },
      "execution_count": null,
      "outputs": [
        {
          "output_type": "execute_result",
          "data": {
            "text/plain": [
              "                                                   Tweet           Username  \\\n",
              "Doc                                                                           \n",
              "doc_1  So this will keep spinning over us until 7 pm…...               Suz👻   \n",
              "doc_2  Our hearts go out to all those affected by . W...               Lytx   \n",
              "doc_3    Kissimmee neighborhood off of Michigan Ave. \\n   Christopher Heath   \n",
              "doc_4  I have this one tree in my backyard that scare...             alex ✨   \n",
              "doc_5           I pray for everyone affected by , but...             Tess 💋   \n",
              "\n",
              "                      Date                  Hashtags  Likes  Retweets  \\\n",
              "Doc                                                                     \n",
              "doc_1  2022-09-30 18:39:08          ['HurricaneIan']      0         0   \n",
              "doc_2  2022-09-30 18:39:01          ['HurricaneIan']      0         0   \n",
              "doc_3  2022-09-30 18:38:58          ['HurricaneIan']      0         0   \n",
              "doc_4  2022-09-30 18:38:57  ['scwx', 'HurricaneIan']      0         0   \n",
              "doc_5  2022-09-30 18:38:53          ['HurricaneIan']      0         0   \n",
              "\n",
              "                                                     Url  \\\n",
              "Doc                                                        \n",
              "doc_1  https://twitter.com/Suz/status/157591818269897...   \n",
              "doc_2  https://twitter.com/Lytx/status/15759181518623...   \n",
              "doc_3  https://twitter.com/Christopher_Heath/status/1...   \n",
              "doc_4  https://twitter.com/alex_/status/1575918135009...   \n",
              "doc_5  https://twitter.com/Tess_/status/1575918119251...   \n",
              "\n",
              "                                          processed_text  \n",
              "Doc                                                       \n",
              "doc_1           [keep, spin, us, 7, pmgo, away, alreadi]  \n",
              "doc_2  [heart, go, affect, wish, everyon, road, curre...  \n",
              "doc_3            [kissimme, neighborhood, michigan, ave]  \n",
              "doc_4  [one, tree, backyard, scare, poltergeist, tree...  \n",
              "doc_5  [pray, everyon, affect, associ, winknew, sympa...  "
            ],
            "text/html": [
              "\n",
              "  <div id=\"df-87d76278-947c-462e-a724-8c1e3e189342\">\n",
              "    <div class=\"colab-df-container\">\n",
              "      <div>\n",
              "<style scoped>\n",
              "    .dataframe tbody tr th:only-of-type {\n",
              "        vertical-align: middle;\n",
              "    }\n",
              "\n",
              "    .dataframe tbody tr th {\n",
              "        vertical-align: top;\n",
              "    }\n",
              "\n",
              "    .dataframe thead th {\n",
              "        text-align: right;\n",
              "    }\n",
              "</style>\n",
              "<table border=\"1\" class=\"dataframe\">\n",
              "  <thead>\n",
              "    <tr style=\"text-align: right;\">\n",
              "      <th></th>\n",
              "      <th>Tweet</th>\n",
              "      <th>Username</th>\n",
              "      <th>Date</th>\n",
              "      <th>Hashtags</th>\n",
              "      <th>Likes</th>\n",
              "      <th>Retweets</th>\n",
              "      <th>Url</th>\n",
              "      <th>processed_text</th>\n",
              "    </tr>\n",
              "    <tr>\n",
              "      <th>Doc</th>\n",
              "      <th></th>\n",
              "      <th></th>\n",
              "      <th></th>\n",
              "      <th></th>\n",
              "      <th></th>\n",
              "      <th></th>\n",
              "      <th></th>\n",
              "      <th></th>\n",
              "    </tr>\n",
              "  </thead>\n",
              "  <tbody>\n",
              "    <tr>\n",
              "      <th>doc_1</th>\n",
              "      <td>So this will keep spinning over us until 7 pm…...</td>\n",
              "      <td>Suz👻</td>\n",
              "      <td>2022-09-30 18:39:08</td>\n",
              "      <td>['HurricaneIan']</td>\n",
              "      <td>0</td>\n",
              "      <td>0</td>\n",
              "      <td>https://twitter.com/Suz/status/157591818269897...</td>\n",
              "      <td>[keep, spin, us, 7, pmgo, away, alreadi]</td>\n",
              "    </tr>\n",
              "    <tr>\n",
              "      <th>doc_2</th>\n",
              "      <td>Our hearts go out to all those affected by . W...</td>\n",
              "      <td>Lytx</td>\n",
              "      <td>2022-09-30 18:39:01</td>\n",
              "      <td>['HurricaneIan']</td>\n",
              "      <td>0</td>\n",
              "      <td>0</td>\n",
              "      <td>https://twitter.com/Lytx/status/15759181518623...</td>\n",
              "      <td>[heart, go, affect, wish, everyon, road, curre...</td>\n",
              "    </tr>\n",
              "    <tr>\n",
              "      <th>doc_3</th>\n",
              "      <td>Kissimmee neighborhood off of Michigan Ave. \\n</td>\n",
              "      <td>Christopher Heath</td>\n",
              "      <td>2022-09-30 18:38:58</td>\n",
              "      <td>['HurricaneIan']</td>\n",
              "      <td>0</td>\n",
              "      <td>0</td>\n",
              "      <td>https://twitter.com/Christopher_Heath/status/1...</td>\n",
              "      <td>[kissimme, neighborhood, michigan, ave]</td>\n",
              "    </tr>\n",
              "    <tr>\n",
              "      <th>doc_4</th>\n",
              "      <td>I have this one tree in my backyard that scare...</td>\n",
              "      <td>alex ✨</td>\n",
              "      <td>2022-09-30 18:38:57</td>\n",
              "      <td>['scwx', 'HurricaneIan']</td>\n",
              "      <td>0</td>\n",
              "      <td>0</td>\n",
              "      <td>https://twitter.com/alex_/status/1575918135009...</td>\n",
              "      <td>[one, tree, backyard, scare, poltergeist, tree...</td>\n",
              "    </tr>\n",
              "    <tr>\n",
              "      <th>doc_5</th>\n",
              "      <td>I pray for everyone affected by , but...</td>\n",
              "      <td>Tess 💋</td>\n",
              "      <td>2022-09-30 18:38:53</td>\n",
              "      <td>['HurricaneIan']</td>\n",
              "      <td>0</td>\n",
              "      <td>0</td>\n",
              "      <td>https://twitter.com/Tess_/status/1575918119251...</td>\n",
              "      <td>[pray, everyon, affect, associ, winknew, sympa...</td>\n",
              "    </tr>\n",
              "  </tbody>\n",
              "</table>\n",
              "</div>\n",
              "      <button class=\"colab-df-convert\" onclick=\"convertToInteractive('df-87d76278-947c-462e-a724-8c1e3e189342')\"\n",
              "              title=\"Convert this dataframe to an interactive table.\"\n",
              "              style=\"display:none;\">\n",
              "        \n",
              "  <svg xmlns=\"http://www.w3.org/2000/svg\" height=\"24px\"viewBox=\"0 0 24 24\"\n",
              "       width=\"24px\">\n",
              "    <path d=\"M0 0h24v24H0V0z\" fill=\"none\"/>\n",
              "    <path d=\"M18.56 5.44l.94 2.06.94-2.06 2.06-.94-2.06-.94-.94-2.06-.94 2.06-2.06.94zm-11 1L8.5 8.5l.94-2.06 2.06-.94-2.06-.94L8.5 2.5l-.94 2.06-2.06.94zm10 10l.94 2.06.94-2.06 2.06-.94-2.06-.94-.94-2.06-.94 2.06-2.06.94z\"/><path d=\"M17.41 7.96l-1.37-1.37c-.4-.4-.92-.59-1.43-.59-.52 0-1.04.2-1.43.59L10.3 9.45l-7.72 7.72c-.78.78-.78 2.05 0 2.83L4 21.41c.39.39.9.59 1.41.59.51 0 1.02-.2 1.41-.59l7.78-7.78 2.81-2.81c.8-.78.8-2.07 0-2.86zM5.41 20L4 18.59l7.72-7.72 1.47 1.35L5.41 20z\"/>\n",
              "  </svg>\n",
              "      </button>\n",
              "      \n",
              "  <style>\n",
              "    .colab-df-container {\n",
              "      display:flex;\n",
              "      flex-wrap:wrap;\n",
              "      gap: 12px;\n",
              "    }\n",
              "\n",
              "    .colab-df-convert {\n",
              "      background-color: #E8F0FE;\n",
              "      border: none;\n",
              "      border-radius: 50%;\n",
              "      cursor: pointer;\n",
              "      display: none;\n",
              "      fill: #1967D2;\n",
              "      height: 32px;\n",
              "      padding: 0 0 0 0;\n",
              "      width: 32px;\n",
              "    }\n",
              "\n",
              "    .colab-df-convert:hover {\n",
              "      background-color: #E2EBFA;\n",
              "      box-shadow: 0px 1px 2px rgba(60, 64, 67, 0.3), 0px 1px 3px 1px rgba(60, 64, 67, 0.15);\n",
              "      fill: #174EA6;\n",
              "    }\n",
              "\n",
              "    [theme=dark] .colab-df-convert {\n",
              "      background-color: #3B4455;\n",
              "      fill: #D2E3FC;\n",
              "    }\n",
              "\n",
              "    [theme=dark] .colab-df-convert:hover {\n",
              "      background-color: #434B5C;\n",
              "      box-shadow: 0px 1px 3px 1px rgba(0, 0, 0, 0.15);\n",
              "      filter: drop-shadow(0px 1px 2px rgba(0, 0, 0, 0.3));\n",
              "      fill: #FFFFFF;\n",
              "    }\n",
              "  </style>\n",
              "\n",
              "      <script>\n",
              "        const buttonEl =\n",
              "          document.querySelector('#df-87d76278-947c-462e-a724-8c1e3e189342 button.colab-df-convert');\n",
              "        buttonEl.style.display =\n",
              "          google.colab.kernel.accessAllowed ? 'block' : 'none';\n",
              "\n",
              "        async function convertToInteractive(key) {\n",
              "          const element = document.querySelector('#df-87d76278-947c-462e-a724-8c1e3e189342');\n",
              "          const dataTable =\n",
              "            await google.colab.kernel.invokeFunction('convertToInteractive',\n",
              "                                                     [key], {});\n",
              "          if (!dataTable) return;\n",
              "\n",
              "          const docLinkHtml = 'Like what you see? Visit the ' +\n",
              "            '<a target=\"_blank\" href=https://colab.research.google.com/notebooks/data_table.ipynb>data table notebook</a>'\n",
              "            + ' to learn more about interactive tables.';\n",
              "          element.innerHTML = '';\n",
              "          dataTable['output_type'] = 'display_data';\n",
              "          await google.colab.output.renderOutput(dataTable, element);\n",
              "          const docLink = document.createElement('div');\n",
              "          docLink.innerHTML = docLinkHtml;\n",
              "          element.appendChild(docLink);\n",
              "        }\n",
              "      </script>\n",
              "    </div>\n",
              "  </div>\n",
              "  "
            ]
          },
          "metadata": {},
          "execution_count": 15
        }
      ]
    },
    {
      "cell_type": "markdown",
      "source": [
        "Test that the searching engine works:"
      ],
      "metadata": {
        "id": "b6h89zE7bZEB"
      }
    },
    {
      "cell_type": "code",
      "source": [
        "print(\"Insert your query (i.e.: Computer Science):\\n\")\n",
        "query = input()\n",
        "ranked_docs = search_tf_idf(query, index)\n",
        "top = 20\n",
        "\n",
        "print(\"\\n======================\\nTop {} results out of {} for the searched query:\\n\".format(top, len(ranked_docs)))\n",
        "for d_id in ranked_docs[:top]:\n",
        "    print(\"{}: {}\".format(d_id, tweet_df_doc.loc[d_id]['Tweet']))"
      ],
      "metadata": {
        "colab": {
          "base_uri": "https://localhost:8080/"
        },
        "id": "lAu9KU8LPqmr",
        "outputId": "e32bbe5b-367f-4817-93f7-1317066c30f5"
      },
      "execution_count": null,
      "outputs": [
        {
          "output_type": "stream",
          "name": "stdout",
          "text": [
            "Insert your query (i.e.: Computer Science):\n",
            "\n",
            "Computer Science\n",
            "\n",
            "======================\n",
            "Top 20 results out of 7 for the searched query:\n",
            "\n",
            "doc_2308: As we await the effects of , here's a look at the science behind predicting hurricanes and why it's so tricky.\n",
            "\n",
            "\n",
            "doc_264: Oh…so NOW Floridians believe the science and listen to the advice of government officials. Good to know! \n",
            "doc_2653: My point is hurricanes are becoming MORE stronger and powerful.\n",
            "We know it and we see it.\n",
            "And mostly we know why.\n",
            "Science.\n",
            "We have the evidence.\n",
            "We have temperatures increasing in Earth's atmosphere.\n",
            "We have the receipts. 🌀🌧🌍\n",
            " \n",
            "\n",
            "\n",
            " \n",
            "doc_3331:  \"study\" sez \"man-caused\"  added 10% rain to ?\n",
            "•Computer simulation? Same scam that saw 2.2Μ  dead in US?\n",
            "•Gov't lab\n",
            "•Not peer-reviewed\n",
            "•Pimped by   \n",
            "•You'd buy eco-dictatorship \"to save earth\"?\n",
            "\n",
            "doc_1798: Stuck in WA state due to  - Damage assessment has commenced through the use of  on my 12-yr old’s school computer. 😂 a week trip turned into a two week trip.  \n",
            "doc_3787: 🌀Charles, a student , was inspired by  to learn about the science behind the the tropical storm system! Thank you for inspiring all of us to be curious and pick up a book to find the answer, Charles!   \n",
            "doc_3900: HURRICANE IAN RECOVERY: Christian Tech Center Ministries is pleased to announce the launch of our  tech recovery program to assist local households affected by this storm. If your computer has been damaged or is no longer working as a result of Ian's impact, \n"
          ]
        }
      ]
    },
    {
      "cell_type": "markdown",
      "source": [
        "Now we show the top 20 most relevant documents for each query that we proposed."
      ],
      "metadata": {
        "id": "IkMnCmlYbIci"
      }
    },
    {
      "cell_type": "code",
      "source": [
        "print(\"Queries:\")\n",
        "#query = input()\n",
        "for query in queries:\n",
        "  ranked_docs = search_tf_idf(query, index)\n",
        "  top = 20\n",
        "  print(\"\\n======================\\nQuery: {}\".format(query))\n",
        "  print(\"\\nTop {} results out of {} for the searched query:\\n\".format(top, len(ranked_docs)))\n",
        "  for d_id in ranked_docs[:top]:\n",
        "      print(\"{}: {}\".format(d_id, tweet_df_doc.loc[d_id]['Tweet']))"
      ],
      "metadata": {
        "colab": {
          "base_uri": "https://localhost:8080/"
        },
        "id": "z8h_GpK2RI4G",
        "outputId": "71cb46d5-62c0-4483-f189-e22d9b226ec0"
      },
      "execution_count": null,
      "outputs": [
        {
          "output_type": "stream",
          "name": "stdout",
          "text": [
            "Queries:\n",
            "\n",
            "======================\n",
            "Query: power outage in carolina\n",
            "\n",
            "Top 20 results out of 552 for the searched query:\n",
            "\n",
            "doc_755: We have 10,000  responders prepared for outages across the  including &gt;6,000 lineworkers. We will respond to outages as soon as it’s safe to do so. Customers should expect outages and have a plan.     \n",
            "doc_2607: HOW TO REPORT AN OUTAGE WHERE YOU ARE: \n",
            "- North Carolina: \n",
            "- South Carolina: \n",
            "   \n",
            "doc_337: Up to 40,000+ power outages in NC now. \n",
            "\n",
            "SC has 115,000. \n",
            "\n",
            "  \n",
            "doc_1302: We are having power outages here. Stay safe everyone and check in on family and friends  \n",
            "doc_686: Landfall of  is imminent just up the coast from Charleston as power outages begin to mount in coastal South Carolina.\n",
            "\n",
            "Stay with  for the latest. \n",
            "doc_1622: With  🌀 passing through today, remember to report any power outages ⚡ directly to your service provider.\n",
            "➡️ : \n",
            "➡️ : \n",
            "➡️  \n",
            "doc_1850: The current electrical customers in Florida without power is 1.8M, after a peak of 2.6M.\n",
            "\n",
            "Track power outages in real-time: .\n",
            "\n",
            "    \n",
            "doc_2171: I don’t care what anyone says  has the best service.  had least amount of power outages and most people have their power back already.  🌀\n",
            "doc_1589: \"There have been 69,000 power outages reported as of 12:30 pm and crews will restore power, but only if winds are below 30 mph.\" Nanette Edwards   \n",
            "doc_3042: Just in- Horry County EOC Mgr says 7,000+ power outages in the county.  \n",
            "doc_2829: From live feeds to school closings to power outages and more, we've rounded up much of 's reporting and other resources here  \n",
            "doc_955:       What about those in Florida that missed the news about having to refinance by 9/29, because of  evacuations, power outages, and generally trying to stay alive?\n",
            "doc_942:     What about those in Florida that missed the news about having to refinance by 9/29, because of  evacuations, power outages, and generally trying to stay alive?\n",
            "doc_932:  What about those in Florida that missed the news about having to refinance by 9/29, because of  evacuations, power outages, and generally trying to stay alive?\n",
            "doc_487: Power outage and can’t load any footy apps. Issa sign. I’ll be back for sa. Fuck \n",
            "doc_2552: WATCH LIVE:  is tracking  as it approaches landfall near Charleston. Approx. 15K power outages already.  \n",
            "\n",
            "doc_3017:  left 2.6 million FL customers w/o power. 22 Florida public power utilities impacted with 212,344 outages at peak of which power has been restored to &gt;57%. A team of &gt;750 line resources are working around the clock to restore power to  communities. \n",
            "doc_3074:  is in N.C.  has a slew of experts on storms, flooding, contamination, the health risks of long-term power outages and other aspects of recovery: \n",
            "doc_1760: This photo is of my neighbor's fence, which blew down Thursday morning after the worst of the winds were gone.\n",
            "\n",
            "Diary of a Hurricane Power Outage.     \n",
            "doc_380:   when will cable and internet be restored in   ? Frustrated that there has been no communication regarding the outages…\n",
            "\n",
            "======================\n",
            "Query: school closed\n",
            "\n",
            "Top 20 results out of 74 for the searched query:\n",
            "\n",
            "doc_1297: Wife: (Son, 8) What do you want for lunch today?\n",
            "Son (who has to go to school despite  closing all other schools in surrounding counties): Despair! \n",
            "doc_2659: As Sarasota County continues to assess the damage from , schools will be closed \"until further notice.\" Manatee County schools' official reopening date is also pending. \n",
            "doc_1144: Superintendent of  Dr. Christopher Bernier says it's going to take weeks to get the schools reopened and that some schools may require a complete rebuild. \n",
            "\n",
            "    \n",
            "\n",
            "doc_2829: From live feeds to school closings to power outages and more, we've rounded up much of 's reporting and other resources here  \n",
            "doc_3580: leeds and dorchester area by the elementary school just lost power. dagnabit.  \n",
            "doc_3533: At the Huggins household, on virtual school days, we teach survival skills. 💨 🌧 \n",
            "doc_933: Our thoughts and prayers are with our partner schools and neighbors along the coast and all who are impacted by . Stay safe everyone. \n",
            "doc_515: Coast guard and national guard airlifting people to the elementary school behind my house  \n",
            "doc_3655: The tarp that has been covering the beacon at the front of  has seen better days, but otherwise the school appears in good shape after  \n",
            "doc_3906: September 30 2022 RSW-Ft Myers airport closed until further notice due to  . Possible re-open 10/07/22. DAB-Daytona Beach closed possible re-open 10/06/22. Now a category one headed towards  3pm today.  is NOW CLOSED see  \n",
            "doc_766: Our Resource page has been updated with the latest information on Public Benefits, School &amp; Court Closures and where to find gas. \n",
            "   \n",
            "doc_3994: 5 was sad that school is cancelled today for  students. He's taken over part of my office (snacks included) and keeping eyes out for  \n",
            "doc_3932: RSW remains closed with no power or water.      \n",
            "doc_3597: The media is now outright lying, again, claiming that the airport in ,  is closed due to Hurricane Ian. From all we can gather genuinely, the Charleston Airport is NOT closed. Why would they lie?\n",
            "\n",
            "  \n",
            "doc_102: It’s interesting (rather infuriating) in talking with a number of Black colleagues that work at  institutions that majority of our schools have had ZERO communication, preparation, or adjustment for staff that may be impacted by \n",
            "doc_2456: Please check our website at  for park closings due to .\n",
            "doc_228: people keep calling the motel my aunt runs and bitching about it being closed now. im sorry, they drained this canal next to the motel before the storm and THIS is where the water came to in the very centre of the property. its closed.  \n",
            "doc_1393: Florida’s Turnpike Enterprise has resumed operations at SunPass Customer Service Call and Walk-In Centers previously closed due to . However, the Pinellas Bayway Administration Center remains closed. For details: \n",
            "doc_1798: Stuck in WA state due to  - Damage assessment has commenced through the use of  on my 12-yr old’s school computer. 😂 a week trip turned into a two week trip.  \n",
            "doc_3861: My husband works at the airport. He gets there and finds out it's closed today. \n",
            "\n",
            "======================\n",
            "Query: deaths hurricane florida\n",
            "\n",
            "Top 20 results out of 1059 for the searched query:\n",
            "\n",
            "doc_2893: : The death toll from  in Florida has reached 23. \n",
            "doc_1874:  Hurricane death count is going to be enormous!!  \n",
            "doc_781: ' lashes  as death toll in  rises.'\n",
            "\n",
            "doc_1356:  looms off Carolinas after 21 deaths reported in Florida\n",
            "\n",
            "\n",
            "doc_3670: Death toll grows to 21 in Florida from . \n",
            "12 deaths in Charlotte County, 8 in Collier County, and one in Polk County.\n",
            "doc_2054: Hurricane Ian aftermath: Death toll rises in Florida - Axios  via  \n",
            "\n",
            "doc_1719: Hurricane Ian: Death toll rises as storm strengthens \n",
            "\n",
            " \n",
            "\n",
            "\n",
            "doc_850: Hurricane Ian death toll rises in Florida as search and rescue effort continues.   \n",
            "\n",
            "         \n",
            "doc_1751: 👇🇺🇸\"Ian barrels toward S.C. as death toll grows in Florida\"   \n",
            "   \n",
            "\n",
            "doc_2369:  did a number on Florida! Lots of damage and loss of life 20 unconfirmed deaths as of now.\n",
            "doc_3198: ’s death toll trickles in: up to 21 fatalities, and counting\n",
            "\n",
            "Reporting by \n",
            "\n",
            "\n",
            "\n",
            "\n",
            "doc_1011: When the Moon 🌚 was in Scorpio 24’degrees of prophecy in the 12th house of deaths.    \n",
            "doc_1700: The current death toll in Florida sits at 21. About 10,000 people in southwest Florida are unaccounted for. 💔 \n",
            "doc_3129: The latest: ’s death toll trickles in: up to 21 fatalities, and counting\n",
            "\n",
            "Reporting by \n",
            "\n",
            "\n",
            "\n",
            "\n",
            "doc_2010: Andrea Mitchell straight for the red meat, “Do you have a death count yet?”\n",
            "\n",
            "doc_2905: Hurricane Ian heads towards South Carolina after striking Florida.\n",
            "The death toll in Florida has risen to 21. We are praying for all those affected. Our hearts are with you.  \n",
            "doc_3636: Hurricane Ian heads towards South Carolina after striking Florida.\n",
            "\n",
            "The death toll in Florida has risen to 21. We are praying from Israel for all those affected. Our hearts are with you.  \n",
            "doc_2700: !!!! Hurricane lan head towards South Carolina US 🇺🇸 after striking Florida US🇺🇸 …\n",
            "- - - - - - - - - - - - \n",
            "\n",
            "The death toll in Florida has risen to 21. \n",
            "\n",
            "\n",
            "\n",
            "Authentic voice \n",
            "doc_3218: If the death doll isn't more than hurricane katrina, its pretty damn close.  was absolutely worse than hurricane charley for Florida..and was THE STRONGEST hurricane in recorded history for our florida peninsula.\n",
            "doc_1404: More than 40 Florida nursing homes were evacuated in Hurricane Ian’s wake, but there were no known resident deaths Thursday as the state mobilized emergency resources to prevent a major catastrophe.      \n",
            "\n",
            "\n",
            "\n",
            "======================\n",
            "Query: how to help hurricane\n",
            "\n",
            "Top 20 results out of 961 for the searched query:\n",
            "\n",
            "doc_1333: . | How to help victims of Hurricane Ian  by \n",
            " \n",
            " \n",
            "\n",
            "    \n",
            "doc_1458: Want to help those affected by ? Here's how to help!\n",
            "\n",
            "doc_1025:        How to help people with the aftermath of Hurricane Ian.       \n",
            "doc_477: Help is on the way  \n",
            "doc_3495: Check them out! Help them out!     \n",
            "doc_1374: just had an advert pop up for help  in pakistan. how about helping the floods for  and  \n",
            "doc_116: GoFundMe was helpful to me &amp; my family when I needed help and I've seen the  community come together before, let's help  after  wrecked her home. \n",
            "\n",
            "Faith Enes After Hurricane Ian Destroyed Her Home \n",
            "doc_1679: Want to help with  relief? Here are some great organizations that are helping those affected 🙏   \n",
            "doc_2142: Our hearts go out to all affected by the devastation of . 💛 If you’re looking for ways to help those impacted by the hurricane, please check out this helpful article: \n",
            "doc_3740: Simply telling Florida's disabled and elderly they had to evacuate for  wasn't helpful. This population, esp. those living alone, needed help evacuating asmany could not on their own. We must do better in the future to help the most vulnerable when a hurricane hits.\n",
            "doc_3057:  —&gt; How to help victims of Hurricane Ian - CBS News \n",
            "doc_2183: Here's how you can help those affected by Hurricane Ian in Florida via/    \n",
            "doc_2108: Here's how you can help those affected by Hurricane Ian in Florida via/    \n",
            "doc_2051: Here's how you can help those affected by Hurricane Ian in Florida via/    \n",
            "doc_1993: Here's how you can help those affected by Hurricane Ian in Florida via/    \n",
            "doc_2964: As  moves out, organizations move in to help  recover. Here's how you can help too.\n",
            "\n",
            "   \n",
            "doc_947: Here’s how you can help those impacted by :  \n",
            "doc_3952:      \n",
            "Help spread the word?\n",
            "       \n",
            "doc_2027:  Thanks for sharing how the Red Cross is helping those affected by  and raising awareness on how people can help!\n",
            "doc_1301: Our  community loves to help our neighbors in times of need. Here’s how you can help those affected by  via . \n",
            "\n",
            "======================\n",
            "Query: president speech\n",
            "\n",
            "Top 20 results out of 32 for the searched query:\n",
            "\n",
            "doc_3412: President Biden  Speech: (Soon)\n",
            " \n",
            " \n",
            "doc_1043: LIVE NOW: President Biden speaks on  \n",
            "doc_1037: President Biden on  Response – LIVE on C-SPAN2  \n",
            "doc_1645: JUST IN: Gov. McMaster confirms he has spoken with President Biden, and he says the president told him the federal government is ready to provide whatever assistance is needed to SC as  makes landfall here. \n",
            "doc_844: Biden giving a “unity” speech on  \n",
            "\n",
            "Worth noting that his former boss, Obama, was propelled to re-election after Hurricane Sandy in 2012\n",
            "\n",
            "It’s 39 days till the \n",
            "doc_900: President Biden is saying the Federal Government will fund the brunt of the cost to repair the damages caused by  because \"We put aside division, we put aside politics, we help each other in America.\"\n",
            "\n",
            "Such an Amazing president he is ♥ \n",
            "doc_1769: President Biden is reassuring those affected by  that they will not be left behind after the storm. \n",
            "doc_429: 📺WATCH NOW: President Biden expected to make remarks about Hurricane Ian\n",
            "\n",
            "\n",
            "\n",
            "          \n",
            "doc_391: 📺WATCH NOW: President Biden expected to make remarks about Hurricane Ian\n",
            "\n",
            "\n",
            "\n",
            "          \n",
            "doc_388: 📺WATCH NOW: President Biden expected to make remarks about Hurricane Ian\n",
            "\n",
            "\n",
            "\n",
            "          \n",
            "doc_2214: WATCH LIVE: President Biden provides an update on the federal response to  \n",
            "doc_692: \n",
            " speech re: fed response to  (now talking re: ): Says  &amp;  pipelines' damage \"was a deliberate act of sabotage, &amp; now the Russians are pumping out disinformation &amp; lies.\"\n",
            "\n",
            " \n",
            "doc_795: \n",
            " speech re: fed response to  (now talking re: ): \"'s actions are a sign he's struggling. The sham referenda he carried out ... &amp; the sham routine he put on this [AM] showing the unity ... well, the [US] is never going to recognize this.\"\n",
            "doc_872: \n",
            " speech re: fed response to  (now talking re: ): \"America &amp; its allies are not going -- let me emphasize that -- are not going to be intimidated, are not going to be intimidated by  and his reckless words and threats.\"\n",
            "\n",
            " \n",
            "doc_2225: This is a sad tale of our president, 98% said he'd help Ukraine more than Florida 🤯🤡\n",
            "  \n",
            " \n",
            "doc_2202: President Joe Biden delivers remarks on the ongoing federal response to .  via \n",
            "doc_2125: . has spoken with SC Governor  about aid with . The President issued an Emergency Declaration for the state last night.\n",
            "doc_3182: Hey,  how about going on Fox and let those people know how a president is supposed to act, regardless of politics and say thank you.     \n",
            "doc_1715: The recent steps the President Biden has taken to ensure everything possible is done to help the communities impacted by  include....\n",
            "\n",
            "doc_1014: BREAKING: President Biden is speaking about recovery efforts in Florida following , says it will take years to rebuild. Watch now on . \n"
          ]
        }
      ]
    },
    {
      "cell_type": "markdown",
      "source": [
        "# *Evaluation*"
      ],
      "metadata": {
        "id": "EeY5K-NkTw5V"
      }
    },
    {
      "cell_type": "markdown",
      "source": [
        "First we upload the data that we are given and we explore it."
      ],
      "metadata": {
        "id": "oqdw6rnsbkmZ"
      }
    },
    {
      "cell_type": "code",
      "source": [
        "docs_path = data_path+'evaluation_gt.csv'\n",
        "\n",
        "evaluation_gt = pd.read_csv(docs_path)\n",
        "evaluation_gt.head()"
      ],
      "metadata": {
        "colab": {
          "base_uri": "https://localhost:8080/",
          "height": 206
        },
        "id": "4HTIKgDQSFux",
        "outputId": "bc89802e-da3b-46b9-ef2c-8ac6472d415d"
      },
      "execution_count": null,
      "outputs": [
        {
          "output_type": "execute_result",
          "data": {
            "text/plain": [
              "       doc  query_id  label\n",
              "0   doc_12         1      1\n",
              "1    doc_9         1      1\n",
              "2   doc_18         1      1\n",
              "3   doc_45         1      1\n",
              "4  doc_501         1      1"
            ],
            "text/html": [
              "\n",
              "  <div id=\"df-8c9a2470-71df-46dd-ac94-91d3b6bd4802\">\n",
              "    <div class=\"colab-df-container\">\n",
              "      <div>\n",
              "<style scoped>\n",
              "    .dataframe tbody tr th:only-of-type {\n",
              "        vertical-align: middle;\n",
              "    }\n",
              "\n",
              "    .dataframe tbody tr th {\n",
              "        vertical-align: top;\n",
              "    }\n",
              "\n",
              "    .dataframe thead th {\n",
              "        text-align: right;\n",
              "    }\n",
              "</style>\n",
              "<table border=\"1\" class=\"dataframe\">\n",
              "  <thead>\n",
              "    <tr style=\"text-align: right;\">\n",
              "      <th></th>\n",
              "      <th>doc</th>\n",
              "      <th>query_id</th>\n",
              "      <th>label</th>\n",
              "    </tr>\n",
              "  </thead>\n",
              "  <tbody>\n",
              "    <tr>\n",
              "      <th>0</th>\n",
              "      <td>doc_12</td>\n",
              "      <td>1</td>\n",
              "      <td>1</td>\n",
              "    </tr>\n",
              "    <tr>\n",
              "      <th>1</th>\n",
              "      <td>doc_9</td>\n",
              "      <td>1</td>\n",
              "      <td>1</td>\n",
              "    </tr>\n",
              "    <tr>\n",
              "      <th>2</th>\n",
              "      <td>doc_18</td>\n",
              "      <td>1</td>\n",
              "      <td>1</td>\n",
              "    </tr>\n",
              "    <tr>\n",
              "      <th>3</th>\n",
              "      <td>doc_45</td>\n",
              "      <td>1</td>\n",
              "      <td>1</td>\n",
              "    </tr>\n",
              "    <tr>\n",
              "      <th>4</th>\n",
              "      <td>doc_501</td>\n",
              "      <td>1</td>\n",
              "      <td>1</td>\n",
              "    </tr>\n",
              "  </tbody>\n",
              "</table>\n",
              "</div>\n",
              "      <button class=\"colab-df-convert\" onclick=\"convertToInteractive('df-8c9a2470-71df-46dd-ac94-91d3b6bd4802')\"\n",
              "              title=\"Convert this dataframe to an interactive table.\"\n",
              "              style=\"display:none;\">\n",
              "        \n",
              "  <svg xmlns=\"http://www.w3.org/2000/svg\" height=\"24px\"viewBox=\"0 0 24 24\"\n",
              "       width=\"24px\">\n",
              "    <path d=\"M0 0h24v24H0V0z\" fill=\"none\"/>\n",
              "    <path d=\"M18.56 5.44l.94 2.06.94-2.06 2.06-.94-2.06-.94-.94-2.06-.94 2.06-2.06.94zm-11 1L8.5 8.5l.94-2.06 2.06-.94-2.06-.94L8.5 2.5l-.94 2.06-2.06.94zm10 10l.94 2.06.94-2.06 2.06-.94-2.06-.94-.94-2.06-.94 2.06-2.06.94z\"/><path d=\"M17.41 7.96l-1.37-1.37c-.4-.4-.92-.59-1.43-.59-.52 0-1.04.2-1.43.59L10.3 9.45l-7.72 7.72c-.78.78-.78 2.05 0 2.83L4 21.41c.39.39.9.59 1.41.59.51 0 1.02-.2 1.41-.59l7.78-7.78 2.81-2.81c.8-.78.8-2.07 0-2.86zM5.41 20L4 18.59l7.72-7.72 1.47 1.35L5.41 20z\"/>\n",
              "  </svg>\n",
              "      </button>\n",
              "      \n",
              "  <style>\n",
              "    .colab-df-container {\n",
              "      display:flex;\n",
              "      flex-wrap:wrap;\n",
              "      gap: 12px;\n",
              "    }\n",
              "\n",
              "    .colab-df-convert {\n",
              "      background-color: #E8F0FE;\n",
              "      border: none;\n",
              "      border-radius: 50%;\n",
              "      cursor: pointer;\n",
              "      display: none;\n",
              "      fill: #1967D2;\n",
              "      height: 32px;\n",
              "      padding: 0 0 0 0;\n",
              "      width: 32px;\n",
              "    }\n",
              "\n",
              "    .colab-df-convert:hover {\n",
              "      background-color: #E2EBFA;\n",
              "      box-shadow: 0px 1px 2px rgba(60, 64, 67, 0.3), 0px 1px 3px 1px rgba(60, 64, 67, 0.15);\n",
              "      fill: #174EA6;\n",
              "    }\n",
              "\n",
              "    [theme=dark] .colab-df-convert {\n",
              "      background-color: #3B4455;\n",
              "      fill: #D2E3FC;\n",
              "    }\n",
              "\n",
              "    [theme=dark] .colab-df-convert:hover {\n",
              "      background-color: #434B5C;\n",
              "      box-shadow: 0px 1px 3px 1px rgba(0, 0, 0, 0.15);\n",
              "      filter: drop-shadow(0px 1px 2px rgba(0, 0, 0, 0.3));\n",
              "      fill: #FFFFFF;\n",
              "    }\n",
              "  </style>\n",
              "\n",
              "      <script>\n",
              "        const buttonEl =\n",
              "          document.querySelector('#df-8c9a2470-71df-46dd-ac94-91d3b6bd4802 button.colab-df-convert');\n",
              "        buttonEl.style.display =\n",
              "          google.colab.kernel.accessAllowed ? 'block' : 'none';\n",
              "\n",
              "        async function convertToInteractive(key) {\n",
              "          const element = document.querySelector('#df-8c9a2470-71df-46dd-ac94-91d3b6bd4802');\n",
              "          const dataTable =\n",
              "            await google.colab.kernel.invokeFunction('convertToInteractive',\n",
              "                                                     [key], {});\n",
              "          if (!dataTable) return;\n",
              "\n",
              "          const docLinkHtml = 'Like what you see? Visit the ' +\n",
              "            '<a target=\"_blank\" href=https://colab.research.google.com/notebooks/data_table.ipynb>data table notebook</a>'\n",
              "            + ' to learn more about interactive tables.';\n",
              "          element.innerHTML = '';\n",
              "          dataTable['output_type'] = 'display_data';\n",
              "          await google.colab.output.renderOutput(dataTable, element);\n",
              "          const docLink = document.createElement('div');\n",
              "          docLink.innerHTML = docLinkHtml;\n",
              "          element.appendChild(docLink);\n",
              "        }\n",
              "      </script>\n",
              "    </div>\n",
              "  </div>\n",
              "  "
            ]
          },
          "metadata": {},
          "execution_count": 18
        }
      ]
    },
    {
      "cell_type": "code",
      "source": [
        "evaluation_gt.query_id.value_counts()\n",
        "\n",
        "evaluation_gt[evaluation_gt.query_id == 3].doc.unique()"
      ],
      "metadata": {
        "colab": {
          "base_uri": "https://localhost:8080/"
        },
        "id": "ozDTLYNpU7ae",
        "outputId": "3858c73f-6a87-4b33-ab10-3876f2f49d27"
      },
      "execution_count": null,
      "outputs": [
        {
          "output_type": "execute_result",
          "data": {
            "text/plain": [
              "array(['doc_30', 'doc_65', 'doc_66', 'doc_112', 'doc_148', 'doc_150',\n",
              "       'doc_198', 'doc_370', 'doc_125', 'doc_306', 'doc_441', 'doc_494',\n",
              "       'doc_525', 'doc_1002', 'doc_1076', 'doc_1096', 'doc_1195',\n",
              "       'doc_1233'], dtype=object)"
            ]
          },
          "metadata": {},
          "execution_count": 19
        }
      ]
    },
    {
      "cell_type": "markdown",
      "source": [
        "Just some cells above, we have retrieved the top 20 docs for each query. Now we are manually scoring the results of our algorithm. We have given values from 0-3 to each result by reading and interpreting the tweet. Hence the scoring is subjective to our criteria."
      ],
      "metadata": {
        "id": "QfLVMWrUbtX8"
      }
    },
    {
      "cell_type": "code",
      "source": [
        "q1 = [['doc_755',2], ['doc_2607',2], ['doc_337',3], ['doc_1302',1], ['doc_686',3], ['doc_1622',1], ['doc_1850',0], ['doc_2171',0], ['doc_1589',1], ['doc_3042',0], ['doc_2829',1], ['doc_955',0], ['doc_942',0], ['doc_932',0], ['doc_487',0], ['doc_2552',3], ['doc_3017',0], ['doc_3074',3], ['doc_1760',1], ['doc_380',1]]\n",
        "q2 = [['doc_1297',2], ['doc_2659',3], ['doc_1144',3], ['doc_2829',2], ['doc_3580',2], ['doc_3533',1], ['doc_933',2], ['doc_515',1], ['doc_3655',0], ['doc_3906',0], ['doc_766',0], ['doc_3994',3], ['doc_3932',1], ['doc_3597',0], ['doc_102',0], ['doc_2456',0], ['doc_228',0], ['doc_1393',0], ['doc_1798',0], ['doc_3871',0]]\n",
        "q3 = [['doc_2893',3], ['doc_1874',2], ['doc_781',2], ['doc_1356',3], ['doc_3670',3], ['doc_2054',3], ['doc_1719',2], ['doc_850',3], ['doc_1751',3], ['doc_2369',3], ['doc_3198',2], ['doc_1011',0], ['doc_1700',3], ['doc_3129',2], ['doc_2010',1], ['doc_2905',3],[ 'doc_3636',3], ['doc_2700',3], ['doc_3218',1], ['doc_1404',2]]\n",
        "q4 = [['doc_1333',3], ['doc_1458',3], ['doc_1025',3], ['doc_477',1], ['doc_3495',2], ['doc_1374',0], ['doc_116',3], ['doc_1679',3], ['doc_2142',3], ['doc_3740',1], ['doc_3057',3], ['doc_2183',3], ['doc_2108',3], ['doc_2051',3], ['doc_1993',3], ['doc_2964',3], ['doc_947',3], ['doc_3952',0], ['doc_2027',2], ['doc_1301',3]]\n",
        "q5 = [['doc_3412',3], ['doc_1043',3], ['doc_1037',3], ['doc_1645',2], ['doc_844',2], ['doc_900',3], ['doc_1769',1], ['doc_429',3], ['doc_391',3], ['doc_388',3], ['doc_2214',3], ['doc_692',1], ['doc_795',1], ['doc_872',1], ['doc_2225',0], ['doc_2202',2], ['doc_2125',3], ['doc_3182',1], ['doc_1715',2], ['doc_1014',3]]"
      ],
      "metadata": {
        "id": "cGHGJfcIDKvp"
      },
      "execution_count": null,
      "outputs": []
    },
    {
      "cell_type": "markdown",
      "source": [
        "Now we convert the above cell into a Pandas DataFrame that fits the data structure that we have been using until now. The resulting DataFrame is called df_queries.\n"
      ],
      "metadata": {
        "id": "sO_F_77vcU7k"
      }
    },
    {
      "cell_type": "code",
      "source": [
        "df_q1 = pd.DataFrame(data = q1, columns = ['doc', 'doc_score'])\n",
        "df_q1['query_id'] = 1\n",
        "df_q2 = pd.DataFrame(data = q2, columns = ['doc', 'doc_score'])\n",
        "df_q2['query_id'] = 2\n",
        "df_q3 = pd.DataFrame(data = q3, columns = ['doc', 'doc_score'])\n",
        "df_q3['query_id'] = 3\n",
        "df_q4 = pd.DataFrame(data = q4, columns = ['doc', 'doc_score'])\n",
        "df_q4['query_id'] = 4\n",
        "df_q5 = pd.DataFrame(data = q5, columns = ['doc', 'doc_score'])\n",
        "df_q5['query_id'] = 5\n",
        "\n",
        "df_queries = pd.concat([df_q1,df_q2,df_q3,df_q4,df_q5]).reset_index(drop=True)\n",
        "df_queries[\"label\"] = df_queries[\"doc_score\"].apply(lambda y: 1 if y >=2 else 0)\n",
        "\n",
        "df_queries"
      ],
      "metadata": {
        "colab": {
          "base_uri": "https://localhost:8080/",
          "height": 424
        },
        "id": "JwwXc2fk_Ltg",
        "outputId": "19281e14-ee65-4c10-e4c4-c16e991337f7"
      },
      "execution_count": null,
      "outputs": [
        {
          "output_type": "execute_result",
          "data": {
            "text/plain": [
              "         doc  doc_score  query_id  label\n",
              "0    doc_755          2         1      1\n",
              "1   doc_2607          2         1      1\n",
              "2    doc_337          3         1      1\n",
              "3   doc_1302          1         1      0\n",
              "4    doc_686          3         1      1\n",
              "..       ...        ...       ...    ...\n",
              "95  doc_2202          2         5      1\n",
              "96  doc_2125          3         5      1\n",
              "97  doc_3182          1         5      0\n",
              "98  doc_1715          2         5      1\n",
              "99  doc_1014          3         5      1\n",
              "\n",
              "[100 rows x 4 columns]"
            ],
            "text/html": [
              "\n",
              "  <div id=\"df-16f394f1-7d71-4bb2-8ec2-4cd5662633de\">\n",
              "    <div class=\"colab-df-container\">\n",
              "      <div>\n",
              "<style scoped>\n",
              "    .dataframe tbody tr th:only-of-type {\n",
              "        vertical-align: middle;\n",
              "    }\n",
              "\n",
              "    .dataframe tbody tr th {\n",
              "        vertical-align: top;\n",
              "    }\n",
              "\n",
              "    .dataframe thead th {\n",
              "        text-align: right;\n",
              "    }\n",
              "</style>\n",
              "<table border=\"1\" class=\"dataframe\">\n",
              "  <thead>\n",
              "    <tr style=\"text-align: right;\">\n",
              "      <th></th>\n",
              "      <th>doc</th>\n",
              "      <th>doc_score</th>\n",
              "      <th>query_id</th>\n",
              "      <th>label</th>\n",
              "    </tr>\n",
              "  </thead>\n",
              "  <tbody>\n",
              "    <tr>\n",
              "      <th>0</th>\n",
              "      <td>doc_755</td>\n",
              "      <td>2</td>\n",
              "      <td>1</td>\n",
              "      <td>1</td>\n",
              "    </tr>\n",
              "    <tr>\n",
              "      <th>1</th>\n",
              "      <td>doc_2607</td>\n",
              "      <td>2</td>\n",
              "      <td>1</td>\n",
              "      <td>1</td>\n",
              "    </tr>\n",
              "    <tr>\n",
              "      <th>2</th>\n",
              "      <td>doc_337</td>\n",
              "      <td>3</td>\n",
              "      <td>1</td>\n",
              "      <td>1</td>\n",
              "    </tr>\n",
              "    <tr>\n",
              "      <th>3</th>\n",
              "      <td>doc_1302</td>\n",
              "      <td>1</td>\n",
              "      <td>1</td>\n",
              "      <td>0</td>\n",
              "    </tr>\n",
              "    <tr>\n",
              "      <th>4</th>\n",
              "      <td>doc_686</td>\n",
              "      <td>3</td>\n",
              "      <td>1</td>\n",
              "      <td>1</td>\n",
              "    </tr>\n",
              "    <tr>\n",
              "      <th>...</th>\n",
              "      <td>...</td>\n",
              "      <td>...</td>\n",
              "      <td>...</td>\n",
              "      <td>...</td>\n",
              "    </tr>\n",
              "    <tr>\n",
              "      <th>95</th>\n",
              "      <td>doc_2202</td>\n",
              "      <td>2</td>\n",
              "      <td>5</td>\n",
              "      <td>1</td>\n",
              "    </tr>\n",
              "    <tr>\n",
              "      <th>96</th>\n",
              "      <td>doc_2125</td>\n",
              "      <td>3</td>\n",
              "      <td>5</td>\n",
              "      <td>1</td>\n",
              "    </tr>\n",
              "    <tr>\n",
              "      <th>97</th>\n",
              "      <td>doc_3182</td>\n",
              "      <td>1</td>\n",
              "      <td>5</td>\n",
              "      <td>0</td>\n",
              "    </tr>\n",
              "    <tr>\n",
              "      <th>98</th>\n",
              "      <td>doc_1715</td>\n",
              "      <td>2</td>\n",
              "      <td>5</td>\n",
              "      <td>1</td>\n",
              "    </tr>\n",
              "    <tr>\n",
              "      <th>99</th>\n",
              "      <td>doc_1014</td>\n",
              "      <td>3</td>\n",
              "      <td>5</td>\n",
              "      <td>1</td>\n",
              "    </tr>\n",
              "  </tbody>\n",
              "</table>\n",
              "<p>100 rows × 4 columns</p>\n",
              "</div>\n",
              "      <button class=\"colab-df-convert\" onclick=\"convertToInteractive('df-16f394f1-7d71-4bb2-8ec2-4cd5662633de')\"\n",
              "              title=\"Convert this dataframe to an interactive table.\"\n",
              "              style=\"display:none;\">\n",
              "        \n",
              "  <svg xmlns=\"http://www.w3.org/2000/svg\" height=\"24px\"viewBox=\"0 0 24 24\"\n",
              "       width=\"24px\">\n",
              "    <path d=\"M0 0h24v24H0V0z\" fill=\"none\"/>\n",
              "    <path d=\"M18.56 5.44l.94 2.06.94-2.06 2.06-.94-2.06-.94-.94-2.06-.94 2.06-2.06.94zm-11 1L8.5 8.5l.94-2.06 2.06-.94-2.06-.94L8.5 2.5l-.94 2.06-2.06.94zm10 10l.94 2.06.94-2.06 2.06-.94-2.06-.94-.94-2.06-.94 2.06-2.06.94z\"/><path d=\"M17.41 7.96l-1.37-1.37c-.4-.4-.92-.59-1.43-.59-.52 0-1.04.2-1.43.59L10.3 9.45l-7.72 7.72c-.78.78-.78 2.05 0 2.83L4 21.41c.39.39.9.59 1.41.59.51 0 1.02-.2 1.41-.59l7.78-7.78 2.81-2.81c.8-.78.8-2.07 0-2.86zM5.41 20L4 18.59l7.72-7.72 1.47 1.35L5.41 20z\"/>\n",
              "  </svg>\n",
              "      </button>\n",
              "      \n",
              "  <style>\n",
              "    .colab-df-container {\n",
              "      display:flex;\n",
              "      flex-wrap:wrap;\n",
              "      gap: 12px;\n",
              "    }\n",
              "\n",
              "    .colab-df-convert {\n",
              "      background-color: #E8F0FE;\n",
              "      border: none;\n",
              "      border-radius: 50%;\n",
              "      cursor: pointer;\n",
              "      display: none;\n",
              "      fill: #1967D2;\n",
              "      height: 32px;\n",
              "      padding: 0 0 0 0;\n",
              "      width: 32px;\n",
              "    }\n",
              "\n",
              "    .colab-df-convert:hover {\n",
              "      background-color: #E2EBFA;\n",
              "      box-shadow: 0px 1px 2px rgba(60, 64, 67, 0.3), 0px 1px 3px 1px rgba(60, 64, 67, 0.15);\n",
              "      fill: #174EA6;\n",
              "    }\n",
              "\n",
              "    [theme=dark] .colab-df-convert {\n",
              "      background-color: #3B4455;\n",
              "      fill: #D2E3FC;\n",
              "    }\n",
              "\n",
              "    [theme=dark] .colab-df-convert:hover {\n",
              "      background-color: #434B5C;\n",
              "      box-shadow: 0px 1px 3px 1px rgba(0, 0, 0, 0.15);\n",
              "      filter: drop-shadow(0px 1px 2px rgba(0, 0, 0, 0.3));\n",
              "      fill: #FFFFFF;\n",
              "    }\n",
              "  </style>\n",
              "\n",
              "      <script>\n",
              "        const buttonEl =\n",
              "          document.querySelector('#df-16f394f1-7d71-4bb2-8ec2-4cd5662633de button.colab-df-convert');\n",
              "        buttonEl.style.display =\n",
              "          google.colab.kernel.accessAllowed ? 'block' : 'none';\n",
              "\n",
              "        async function convertToInteractive(key) {\n",
              "          const element = document.querySelector('#df-16f394f1-7d71-4bb2-8ec2-4cd5662633de');\n",
              "          const dataTable =\n",
              "            await google.colab.kernel.invokeFunction('convertToInteractive',\n",
              "                                                     [key], {});\n",
              "          if (!dataTable) return;\n",
              "\n",
              "          const docLinkHtml = 'Like what you see? Visit the ' +\n",
              "            '<a target=\"_blank\" href=https://colab.research.google.com/notebooks/data_table.ipynb>data table notebook</a>'\n",
              "            + ' to learn more about interactive tables.';\n",
              "          element.innerHTML = '';\n",
              "          dataTable['output_type'] = 'display_data';\n",
              "          await google.colab.output.renderOutput(dataTable, element);\n",
              "          const docLink = document.createElement('div');\n",
              "          docLink.innerHTML = docLinkHtml;\n",
              "          element.appendChild(docLink);\n",
              "        }\n",
              "      </script>\n",
              "    </div>\n",
              "  </div>\n",
              "  "
            ]
          },
          "metadata": {},
          "execution_count": 21
        }
      ]
    },
    {
      "cell_type": "markdown",
      "source": [
        "Now we want to predict the relevance for each document and query.\n"
      ],
      "metadata": {
        "id": "QkhJByxictLJ"
      }
    },
    {
      "cell_type": "code",
      "source": [
        "def computed_predicted_relevance(index, queries, df):\n",
        "    \"\"\"\n",
        "    Arguments: \n",
        "    - index -- inverted index data structure\n",
        "    - queries: list of queries we are interested in\n",
        "    - df: dataframe\n",
        "    Returns: \n",
        "    A dataframe containing a new column with the predicted relevance (tf-idf score)\n",
        "    \"\"\"\n",
        "    #create the dict of predicted_relevance\n",
        "    p_r = {}\n",
        "    #for each query \n",
        "    for id,query in enumerate(queries):\n",
        "      id += 1 #to readjust indices\n",
        "      docs = df[df.query_id == id].doc.unique() #obtain the list of docs\n",
        "      terms = build_terms(query) #preprocess query text\n",
        "      _, doc_scores = rank_documents(terms, docs, index, idf, tf, sorted=False) #for each doc obtain it's cosine_similarity to the query\n",
        "      dicdoc_scores = {} #dictionary to store the score of each doc\n",
        "      for elm in doc_scores: #for each element([score, doc]) in doc_score\n",
        "        dicdoc_scores[elm[1]] = elm[0] #store the element and it's score\n",
        "      for doc in docs:\n",
        "        if doc not in dicdoc_scores:\n",
        "          dicdoc_scores[doc] = 0 #this is to handle some exceptions, if there's no score, set it to 0\n",
        "\n",
        "      p_r[id] = dicdoc_scores #for each query stores dict of scores\n",
        "    \n",
        "    query_doc = zip(df.query_id.values, df.doc.values) #create a zip element which is the concatenation of query and doc. Used to iterate over two columns together of the dataframe\n",
        "    df['predicted_relevance'] = [p_r[q][d] for q,d in query_doc] #we add the new column to the dataframe\n",
        "\n",
        "    return df"
      ],
      "metadata": {
        "id": "lD9gemhLVZ6c"
      },
      "execution_count": null,
      "outputs": []
    },
    {
      "cell_type": "markdown",
      "source": [
        "Now we create the datframe with the predicted score using the previous function computed_predicted_relevance and we rename the dataframe to search_results"
      ],
      "metadata": {
        "id": "OAa4Ltj5fgsg"
      }
    },
    {
      "cell_type": "code",
      "source": [
        "# is_relevant ==> label\n",
        "# TF-IDF de del doc i query ==> predicted_relevance\n",
        "\n",
        "queries = ['power outage in carolina','school closed','deaths hurricane florida','how to help hurricane','president speech']\n",
        "#queries = ['Landfall in South Carolina','Help and recovery during the hurricane disaster','Floodings in South Carolina']\n",
        "\n",
        "search_results = computed_predicted_relevance(index, queries, df_queries)\n",
        "\n",
        "search_results.head()"
      ],
      "metadata": {
        "id": "W5PGbZj-Epdt",
        "colab": {
          "base_uri": "https://localhost:8080/",
          "height": 206
        },
        "outputId": "3238be55-a8d9-4965-abbb-0414639b3268"
      },
      "execution_count": null,
      "outputs": [
        {
          "output_type": "execute_result",
          "data": {
            "text/plain": [
              "        doc  doc_score  query_id  label  predicted_relevance\n",
              "0   doc_755          2         1      1             6.727996\n",
              "1  doc_2607          2         1      1             6.703382\n",
              "2   doc_337          3         1      1             6.178443\n",
              "3  doc_1302          1         1      0             5.352027\n",
              "4   doc_686          3         1      1             5.304446"
            ],
            "text/html": [
              "\n",
              "  <div id=\"df-9d3aa645-4330-48c5-834b-507242773352\">\n",
              "    <div class=\"colab-df-container\">\n",
              "      <div>\n",
              "<style scoped>\n",
              "    .dataframe tbody tr th:only-of-type {\n",
              "        vertical-align: middle;\n",
              "    }\n",
              "\n",
              "    .dataframe tbody tr th {\n",
              "        vertical-align: top;\n",
              "    }\n",
              "\n",
              "    .dataframe thead th {\n",
              "        text-align: right;\n",
              "    }\n",
              "</style>\n",
              "<table border=\"1\" class=\"dataframe\">\n",
              "  <thead>\n",
              "    <tr style=\"text-align: right;\">\n",
              "      <th></th>\n",
              "      <th>doc</th>\n",
              "      <th>doc_score</th>\n",
              "      <th>query_id</th>\n",
              "      <th>label</th>\n",
              "      <th>predicted_relevance</th>\n",
              "    </tr>\n",
              "  </thead>\n",
              "  <tbody>\n",
              "    <tr>\n",
              "      <th>0</th>\n",
              "      <td>doc_755</td>\n",
              "      <td>2</td>\n",
              "      <td>1</td>\n",
              "      <td>1</td>\n",
              "      <td>6.727996</td>\n",
              "    </tr>\n",
              "    <tr>\n",
              "      <th>1</th>\n",
              "      <td>doc_2607</td>\n",
              "      <td>2</td>\n",
              "      <td>1</td>\n",
              "      <td>1</td>\n",
              "      <td>6.703382</td>\n",
              "    </tr>\n",
              "    <tr>\n",
              "      <th>2</th>\n",
              "      <td>doc_337</td>\n",
              "      <td>3</td>\n",
              "      <td>1</td>\n",
              "      <td>1</td>\n",
              "      <td>6.178443</td>\n",
              "    </tr>\n",
              "    <tr>\n",
              "      <th>3</th>\n",
              "      <td>doc_1302</td>\n",
              "      <td>1</td>\n",
              "      <td>1</td>\n",
              "      <td>0</td>\n",
              "      <td>5.352027</td>\n",
              "    </tr>\n",
              "    <tr>\n",
              "      <th>4</th>\n",
              "      <td>doc_686</td>\n",
              "      <td>3</td>\n",
              "      <td>1</td>\n",
              "      <td>1</td>\n",
              "      <td>5.304446</td>\n",
              "    </tr>\n",
              "  </tbody>\n",
              "</table>\n",
              "</div>\n",
              "      <button class=\"colab-df-convert\" onclick=\"convertToInteractive('df-9d3aa645-4330-48c5-834b-507242773352')\"\n",
              "              title=\"Convert this dataframe to an interactive table.\"\n",
              "              style=\"display:none;\">\n",
              "        \n",
              "  <svg xmlns=\"http://www.w3.org/2000/svg\" height=\"24px\"viewBox=\"0 0 24 24\"\n",
              "       width=\"24px\">\n",
              "    <path d=\"M0 0h24v24H0V0z\" fill=\"none\"/>\n",
              "    <path d=\"M18.56 5.44l.94 2.06.94-2.06 2.06-.94-2.06-.94-.94-2.06-.94 2.06-2.06.94zm-11 1L8.5 8.5l.94-2.06 2.06-.94-2.06-.94L8.5 2.5l-.94 2.06-2.06.94zm10 10l.94 2.06.94-2.06 2.06-.94-2.06-.94-.94-2.06-.94 2.06-2.06.94z\"/><path d=\"M17.41 7.96l-1.37-1.37c-.4-.4-.92-.59-1.43-.59-.52 0-1.04.2-1.43.59L10.3 9.45l-7.72 7.72c-.78.78-.78 2.05 0 2.83L4 21.41c.39.39.9.59 1.41.59.51 0 1.02-.2 1.41-.59l7.78-7.78 2.81-2.81c.8-.78.8-2.07 0-2.86zM5.41 20L4 18.59l7.72-7.72 1.47 1.35L5.41 20z\"/>\n",
              "  </svg>\n",
              "      </button>\n",
              "      \n",
              "  <style>\n",
              "    .colab-df-container {\n",
              "      display:flex;\n",
              "      flex-wrap:wrap;\n",
              "      gap: 12px;\n",
              "    }\n",
              "\n",
              "    .colab-df-convert {\n",
              "      background-color: #E8F0FE;\n",
              "      border: none;\n",
              "      border-radius: 50%;\n",
              "      cursor: pointer;\n",
              "      display: none;\n",
              "      fill: #1967D2;\n",
              "      height: 32px;\n",
              "      padding: 0 0 0 0;\n",
              "      width: 32px;\n",
              "    }\n",
              "\n",
              "    .colab-df-convert:hover {\n",
              "      background-color: #E2EBFA;\n",
              "      box-shadow: 0px 1px 2px rgba(60, 64, 67, 0.3), 0px 1px 3px 1px rgba(60, 64, 67, 0.15);\n",
              "      fill: #174EA6;\n",
              "    }\n",
              "\n",
              "    [theme=dark] .colab-df-convert {\n",
              "      background-color: #3B4455;\n",
              "      fill: #D2E3FC;\n",
              "    }\n",
              "\n",
              "    [theme=dark] .colab-df-convert:hover {\n",
              "      background-color: #434B5C;\n",
              "      box-shadow: 0px 1px 3px 1px rgba(0, 0, 0, 0.15);\n",
              "      filter: drop-shadow(0px 1px 2px rgba(0, 0, 0, 0.3));\n",
              "      fill: #FFFFFF;\n",
              "    }\n",
              "  </style>\n",
              "\n",
              "      <script>\n",
              "        const buttonEl =\n",
              "          document.querySelector('#df-9d3aa645-4330-48c5-834b-507242773352 button.colab-df-convert');\n",
              "        buttonEl.style.display =\n",
              "          google.colab.kernel.accessAllowed ? 'block' : 'none';\n",
              "\n",
              "        async function convertToInteractive(key) {\n",
              "          const element = document.querySelector('#df-9d3aa645-4330-48c5-834b-507242773352');\n",
              "          const dataTable =\n",
              "            await google.colab.kernel.invokeFunction('convertToInteractive',\n",
              "                                                     [key], {});\n",
              "          if (!dataTable) return;\n",
              "\n",
              "          const docLinkHtml = 'Like what you see? Visit the ' +\n",
              "            '<a target=\"_blank\" href=https://colab.research.google.com/notebooks/data_table.ipynb>data table notebook</a>'\n",
              "            + ' to learn more about interactive tables.';\n",
              "          element.innerHTML = '';\n",
              "          dataTable['output_type'] = 'display_data';\n",
              "          await google.colab.output.renderOutput(dataTable, element);\n",
              "          const docLink = document.createElement('div');\n",
              "          docLink.innerHTML = docLinkHtml;\n",
              "          element.appendChild(docLink);\n",
              "        }\n",
              "      </script>\n",
              "    </div>\n",
              "  </div>\n",
              "  "
            ]
          },
          "metadata": {},
          "execution_count": 23
        }
      ]
    },
    {
      "cell_type": "markdown",
      "source": [
        "### Precision@K (P@K)"
      ],
      "metadata": {
        "id": "jw5n01Knl4E4"
      }
    },
    {
      "cell_type": "code",
      "source": [
        "def precision_at_k(doc_score, y_score, k=10):\n",
        "    \"\"\"\n",
        "    Parameters\n",
        "    ----------\n",
        "    doc_score: Ground truth (true relevance labels).\n",
        "    y_score: Predicted scores.\n",
        "    k : number of doc to consider.\n",
        "\n",
        "    Returns\n",
        "    -------\n",
        "    precision @k : float\n",
        "\n",
        "    \"\"\"\n",
        "    order = np.argsort(y_score)[::-1]\n",
        "    doc_score = np.take(doc_score, order[:k]) #y_true\n",
        "    relevant = sum(doc_score == 1)\n",
        "    return float(relevant) / k"
      ],
      "metadata": {
        "id": "w7UbX_TaZgRr"
      },
      "execution_count": null,
      "outputs": []
    },
    {
      "cell_type": "code",
      "source": [
        "k = 5\n",
        "for i in range(1,6):\n",
        "  current_query = i\n",
        "  current_query_res = search_results[search_results[\"query_id\"] == current_query]\n",
        "  print(\"==> Query {}:\\n\\tPrecision@{}: {}\\n\".format(i, k, precision_at_k(current_query_res[\"label\"], current_query_res[\"predicted_relevance\"], k)))"
      ],
      "metadata": {
        "colab": {
          "base_uri": "https://localhost:8080/"
        },
        "id": "1lalL0T_jM4P",
        "outputId": "6e38ff35-ca3e-4410-c9e4-dac201709f3a"
      },
      "execution_count": null,
      "outputs": [
        {
          "output_type": "stream",
          "name": "stdout",
          "text": [
            "==> Query 1:\n",
            "\tPrecision@5: 0.8\n",
            "\n",
            "==> Query 2:\n",
            "\tPrecision@5: 1.0\n",
            "\n",
            "==> Query 3:\n",
            "\tPrecision@5: 1.0\n",
            "\n",
            "==> Query 4:\n",
            "\tPrecision@5: 0.8\n",
            "\n",
            "==> Query 5:\n",
            "\tPrecision@5: 1.0\n",
            "\n"
          ]
        }
      ]
    },
    {
      "cell_type": "code",
      "source": [
        "current_query = 1\n",
        "current_query_res = search_results[search_results[\"query_id\"] == current_query]\n",
        "k = 5\n",
        "\n",
        "print(\"==> Precision@{}: {}\\n\".format(k, precision_at_k(current_query_res[\"label\"], current_query_res[\"predicted_relevance\"], k)))\n",
        "print(\"\\nCheck on the dataset sorted by score:\\n\")\n",
        "\n",
        "current_query_res.sort_values(\"predicted_relevance\", ascending=False).head(k)"
      ],
      "metadata": {
        "colab": {
          "base_uri": "https://localhost:8080/",
          "height": 293
        },
        "id": "wnqgZKVEveez",
        "outputId": "3b588536-bab0-4672-904b-ad3e384bed90"
      },
      "execution_count": null,
      "outputs": [
        {
          "output_type": "stream",
          "name": "stdout",
          "text": [
            "==> Precision@5: 0.8\n",
            "\n",
            "\n",
            "Check on the dataset sorted by score:\n",
            "\n"
          ]
        },
        {
          "output_type": "execute_result",
          "data": {
            "text/plain": [
              "        doc  doc_score  query_id  label  predicted_relevance\n",
              "0   doc_755          2         1      1             6.727996\n",
              "1  doc_2607          2         1      1             6.703382\n",
              "2   doc_337          3         1      1             6.178443\n",
              "3  doc_1302          1         1      0             5.352027\n",
              "4   doc_686          3         1      1             5.304446"
            ],
            "text/html": [
              "\n",
              "  <div id=\"df-114139df-efa9-42a2-b218-2291f9d38448\">\n",
              "    <div class=\"colab-df-container\">\n",
              "      <div>\n",
              "<style scoped>\n",
              "    .dataframe tbody tr th:only-of-type {\n",
              "        vertical-align: middle;\n",
              "    }\n",
              "\n",
              "    .dataframe tbody tr th {\n",
              "        vertical-align: top;\n",
              "    }\n",
              "\n",
              "    .dataframe thead th {\n",
              "        text-align: right;\n",
              "    }\n",
              "</style>\n",
              "<table border=\"1\" class=\"dataframe\">\n",
              "  <thead>\n",
              "    <tr style=\"text-align: right;\">\n",
              "      <th></th>\n",
              "      <th>doc</th>\n",
              "      <th>doc_score</th>\n",
              "      <th>query_id</th>\n",
              "      <th>label</th>\n",
              "      <th>predicted_relevance</th>\n",
              "    </tr>\n",
              "  </thead>\n",
              "  <tbody>\n",
              "    <tr>\n",
              "      <th>0</th>\n",
              "      <td>doc_755</td>\n",
              "      <td>2</td>\n",
              "      <td>1</td>\n",
              "      <td>1</td>\n",
              "      <td>6.727996</td>\n",
              "    </tr>\n",
              "    <tr>\n",
              "      <th>1</th>\n",
              "      <td>doc_2607</td>\n",
              "      <td>2</td>\n",
              "      <td>1</td>\n",
              "      <td>1</td>\n",
              "      <td>6.703382</td>\n",
              "    </tr>\n",
              "    <tr>\n",
              "      <th>2</th>\n",
              "      <td>doc_337</td>\n",
              "      <td>3</td>\n",
              "      <td>1</td>\n",
              "      <td>1</td>\n",
              "      <td>6.178443</td>\n",
              "    </tr>\n",
              "    <tr>\n",
              "      <th>3</th>\n",
              "      <td>doc_1302</td>\n",
              "      <td>1</td>\n",
              "      <td>1</td>\n",
              "      <td>0</td>\n",
              "      <td>5.352027</td>\n",
              "    </tr>\n",
              "    <tr>\n",
              "      <th>4</th>\n",
              "      <td>doc_686</td>\n",
              "      <td>3</td>\n",
              "      <td>1</td>\n",
              "      <td>1</td>\n",
              "      <td>5.304446</td>\n",
              "    </tr>\n",
              "  </tbody>\n",
              "</table>\n",
              "</div>\n",
              "      <button class=\"colab-df-convert\" onclick=\"convertToInteractive('df-114139df-efa9-42a2-b218-2291f9d38448')\"\n",
              "              title=\"Convert this dataframe to an interactive table.\"\n",
              "              style=\"display:none;\">\n",
              "        \n",
              "  <svg xmlns=\"http://www.w3.org/2000/svg\" height=\"24px\"viewBox=\"0 0 24 24\"\n",
              "       width=\"24px\">\n",
              "    <path d=\"M0 0h24v24H0V0z\" fill=\"none\"/>\n",
              "    <path d=\"M18.56 5.44l.94 2.06.94-2.06 2.06-.94-2.06-.94-.94-2.06-.94 2.06-2.06.94zm-11 1L8.5 8.5l.94-2.06 2.06-.94-2.06-.94L8.5 2.5l-.94 2.06-2.06.94zm10 10l.94 2.06.94-2.06 2.06-.94-2.06-.94-.94-2.06-.94 2.06-2.06.94z\"/><path d=\"M17.41 7.96l-1.37-1.37c-.4-.4-.92-.59-1.43-.59-.52 0-1.04.2-1.43.59L10.3 9.45l-7.72 7.72c-.78.78-.78 2.05 0 2.83L4 21.41c.39.39.9.59 1.41.59.51 0 1.02-.2 1.41-.59l7.78-7.78 2.81-2.81c.8-.78.8-2.07 0-2.86zM5.41 20L4 18.59l7.72-7.72 1.47 1.35L5.41 20z\"/>\n",
              "  </svg>\n",
              "      </button>\n",
              "      \n",
              "  <style>\n",
              "    .colab-df-container {\n",
              "      display:flex;\n",
              "      flex-wrap:wrap;\n",
              "      gap: 12px;\n",
              "    }\n",
              "\n",
              "    .colab-df-convert {\n",
              "      background-color: #E8F0FE;\n",
              "      border: none;\n",
              "      border-radius: 50%;\n",
              "      cursor: pointer;\n",
              "      display: none;\n",
              "      fill: #1967D2;\n",
              "      height: 32px;\n",
              "      padding: 0 0 0 0;\n",
              "      width: 32px;\n",
              "    }\n",
              "\n",
              "    .colab-df-convert:hover {\n",
              "      background-color: #E2EBFA;\n",
              "      box-shadow: 0px 1px 2px rgba(60, 64, 67, 0.3), 0px 1px 3px 1px rgba(60, 64, 67, 0.15);\n",
              "      fill: #174EA6;\n",
              "    }\n",
              "\n",
              "    [theme=dark] .colab-df-convert {\n",
              "      background-color: #3B4455;\n",
              "      fill: #D2E3FC;\n",
              "    }\n",
              "\n",
              "    [theme=dark] .colab-df-convert:hover {\n",
              "      background-color: #434B5C;\n",
              "      box-shadow: 0px 1px 3px 1px rgba(0, 0, 0, 0.15);\n",
              "      filter: drop-shadow(0px 1px 2px rgba(0, 0, 0, 0.3));\n",
              "      fill: #FFFFFF;\n",
              "    }\n",
              "  </style>\n",
              "\n",
              "      <script>\n",
              "        const buttonEl =\n",
              "          document.querySelector('#df-114139df-efa9-42a2-b218-2291f9d38448 button.colab-df-convert');\n",
              "        buttonEl.style.display =\n",
              "          google.colab.kernel.accessAllowed ? 'block' : 'none';\n",
              "\n",
              "        async function convertToInteractive(key) {\n",
              "          const element = document.querySelector('#df-114139df-efa9-42a2-b218-2291f9d38448');\n",
              "          const dataTable =\n",
              "            await google.colab.kernel.invokeFunction('convertToInteractive',\n",
              "                                                     [key], {});\n",
              "          if (!dataTable) return;\n",
              "\n",
              "          const docLinkHtml = 'Like what you see? Visit the ' +\n",
              "            '<a target=\"_blank\" href=https://colab.research.google.com/notebooks/data_table.ipynb>data table notebook</a>'\n",
              "            + ' to learn more about interactive tables.';\n",
              "          element.innerHTML = '';\n",
              "          dataTable['output_type'] = 'display_data';\n",
              "          await google.colab.output.renderOutput(dataTable, element);\n",
              "          const docLink = document.createElement('div');\n",
              "          docLink.innerHTML = docLinkHtml;\n",
              "          element.appendChild(docLink);\n",
              "        }\n",
              "      </script>\n",
              "    </div>\n",
              "  </div>\n",
              "  "
            ]
          },
          "metadata": {},
          "execution_count": 54
        }
      ]
    },
    {
      "cell_type": "markdown",
      "source": [
        "### Recall@K (R@K)"
      ],
      "metadata": {
        "id": "yKndpqTuqfJ_"
      }
    },
    {
      "cell_type": "code",
      "source": [
        "def recall_at_k(doc_score, y_score, k=10):\n",
        "    \"\"\"\n",
        "    Parameters\n",
        "    ----------\n",
        "    doc_score: Ground truth (true relevance labels).\n",
        "    y_score: Predicted scores.\n",
        "    k : number of doc to consider.\n",
        "\n",
        "    Returns\n",
        "    -------\n",
        "    recall @k : float\n",
        "\n",
        "    \"\"\"\n",
        "    max_doc = doc_score.sum()\n",
        "    order = np.argsort(y_score)[::-1]\n",
        "    doc_score = np.take(doc_score, order[:k]) #y_true\n",
        "    relevant = sum(doc_score == 1)\n",
        "    return float(relevant) / max_doc"
      ],
      "metadata": {
        "id": "mqraPxFdqiym"
      },
      "execution_count": null,
      "outputs": []
    },
    {
      "cell_type": "code",
      "source": [
        "k = 5\n",
        "for i in range(1,6):\n",
        "  current_query = i\n",
        "  current_query_res = search_results[search_results[\"query_id\"] == current_query]\n",
        "  print(\"==> Query {}:\\n\\tRecall@{}: {}\\n\".format(i, k, recall_at_k(current_query_res[\"label\"], current_query_res[\"predicted_relevance\"], k)))"
      ],
      "metadata": {
        "colab": {
          "base_uri": "https://localhost:8080/"
        },
        "id": "pMb-qb-qv8gJ",
        "outputId": "f9d27332-4cc7-43c7-872b-c4e0549aea97"
      },
      "execution_count": null,
      "outputs": [
        {
          "output_type": "stream",
          "name": "stdout",
          "text": [
            "==> Query 1:\n",
            "\tRecall@5: 0.6666666666666666\n",
            "\n",
            "==> Query 2:\n",
            "\tRecall@5: 0.7142857142857143\n",
            "\n",
            "==> Query 3:\n",
            "\tRecall@5: 0.29411764705882354\n",
            "\n",
            "==> Query 4:\n",
            "\tRecall@5: 0.25\n",
            "\n",
            "==> Query 5:\n",
            "\tRecall@5: 0.35714285714285715\n",
            "\n"
          ]
        }
      ]
    },
    {
      "cell_type": "code",
      "source": [
        "current_query = 1\n",
        "current_query_res = search_results[search_results[\"query_id\"] == current_query]\n",
        "\n",
        "k = 5\n",
        "print(\"==> Recall@{}: {}\\n\".format(k, recall_at_k(current_query_res[\"label\"], current_query_res[\"predicted_relevance\"], k)))\n",
        "print(\"\\nCheck on the dataset sorted by score:\\n\")\n",
        "\n",
        "current_query_res.sort_values(\"predicted_relevance\", ascending=False).head()"
      ],
      "metadata": {
        "colab": {
          "base_uri": "https://localhost:8080/",
          "height": 293
        },
        "id": "ARI5zBeFrGFd",
        "outputId": "e7da77b9-504f-48e9-99ec-890ded70568e"
      },
      "execution_count": null,
      "outputs": [
        {
          "output_type": "stream",
          "name": "stdout",
          "text": [
            "==> Recall@5: 0.6666666666666666\n",
            "\n",
            "\n",
            "Check on the dataset sorted by score:\n",
            "\n"
          ]
        },
        {
          "output_type": "execute_result",
          "data": {
            "text/plain": [
              "        doc  doc_score  query_id  label  predicted_relevance\n",
              "0   doc_755          2         1      1             6.727996\n",
              "1  doc_2607          2         1      1             6.703382\n",
              "2   doc_337          3         1      1             6.178443\n",
              "3  doc_1302          1         1      0             5.352027\n",
              "4   doc_686          3         1      1             5.304446"
            ],
            "text/html": [
              "\n",
              "  <div id=\"df-f29a2d69-6aaf-449f-a15e-4eefdb6bf377\">\n",
              "    <div class=\"colab-df-container\">\n",
              "      <div>\n",
              "<style scoped>\n",
              "    .dataframe tbody tr th:only-of-type {\n",
              "        vertical-align: middle;\n",
              "    }\n",
              "\n",
              "    .dataframe tbody tr th {\n",
              "        vertical-align: top;\n",
              "    }\n",
              "\n",
              "    .dataframe thead th {\n",
              "        text-align: right;\n",
              "    }\n",
              "</style>\n",
              "<table border=\"1\" class=\"dataframe\">\n",
              "  <thead>\n",
              "    <tr style=\"text-align: right;\">\n",
              "      <th></th>\n",
              "      <th>doc</th>\n",
              "      <th>doc_score</th>\n",
              "      <th>query_id</th>\n",
              "      <th>label</th>\n",
              "      <th>predicted_relevance</th>\n",
              "    </tr>\n",
              "  </thead>\n",
              "  <tbody>\n",
              "    <tr>\n",
              "      <th>0</th>\n",
              "      <td>doc_755</td>\n",
              "      <td>2</td>\n",
              "      <td>1</td>\n",
              "      <td>1</td>\n",
              "      <td>6.727996</td>\n",
              "    </tr>\n",
              "    <tr>\n",
              "      <th>1</th>\n",
              "      <td>doc_2607</td>\n",
              "      <td>2</td>\n",
              "      <td>1</td>\n",
              "      <td>1</td>\n",
              "      <td>6.703382</td>\n",
              "    </tr>\n",
              "    <tr>\n",
              "      <th>2</th>\n",
              "      <td>doc_337</td>\n",
              "      <td>3</td>\n",
              "      <td>1</td>\n",
              "      <td>1</td>\n",
              "      <td>6.178443</td>\n",
              "    </tr>\n",
              "    <tr>\n",
              "      <th>3</th>\n",
              "      <td>doc_1302</td>\n",
              "      <td>1</td>\n",
              "      <td>1</td>\n",
              "      <td>0</td>\n",
              "      <td>5.352027</td>\n",
              "    </tr>\n",
              "    <tr>\n",
              "      <th>4</th>\n",
              "      <td>doc_686</td>\n",
              "      <td>3</td>\n",
              "      <td>1</td>\n",
              "      <td>1</td>\n",
              "      <td>5.304446</td>\n",
              "    </tr>\n",
              "  </tbody>\n",
              "</table>\n",
              "</div>\n",
              "      <button class=\"colab-df-convert\" onclick=\"convertToInteractive('df-f29a2d69-6aaf-449f-a15e-4eefdb6bf377')\"\n",
              "              title=\"Convert this dataframe to an interactive table.\"\n",
              "              style=\"display:none;\">\n",
              "        \n",
              "  <svg xmlns=\"http://www.w3.org/2000/svg\" height=\"24px\"viewBox=\"0 0 24 24\"\n",
              "       width=\"24px\">\n",
              "    <path d=\"M0 0h24v24H0V0z\" fill=\"none\"/>\n",
              "    <path d=\"M18.56 5.44l.94 2.06.94-2.06 2.06-.94-2.06-.94-.94-2.06-.94 2.06-2.06.94zm-11 1L8.5 8.5l.94-2.06 2.06-.94-2.06-.94L8.5 2.5l-.94 2.06-2.06.94zm10 10l.94 2.06.94-2.06 2.06-.94-2.06-.94-.94-2.06-.94 2.06-2.06.94z\"/><path d=\"M17.41 7.96l-1.37-1.37c-.4-.4-.92-.59-1.43-.59-.52 0-1.04.2-1.43.59L10.3 9.45l-7.72 7.72c-.78.78-.78 2.05 0 2.83L4 21.41c.39.39.9.59 1.41.59.51 0 1.02-.2 1.41-.59l7.78-7.78 2.81-2.81c.8-.78.8-2.07 0-2.86zM5.41 20L4 18.59l7.72-7.72 1.47 1.35L5.41 20z\"/>\n",
              "  </svg>\n",
              "      </button>\n",
              "      \n",
              "  <style>\n",
              "    .colab-df-container {\n",
              "      display:flex;\n",
              "      flex-wrap:wrap;\n",
              "      gap: 12px;\n",
              "    }\n",
              "\n",
              "    .colab-df-convert {\n",
              "      background-color: #E8F0FE;\n",
              "      border: none;\n",
              "      border-radius: 50%;\n",
              "      cursor: pointer;\n",
              "      display: none;\n",
              "      fill: #1967D2;\n",
              "      height: 32px;\n",
              "      padding: 0 0 0 0;\n",
              "      width: 32px;\n",
              "    }\n",
              "\n",
              "    .colab-df-convert:hover {\n",
              "      background-color: #E2EBFA;\n",
              "      box-shadow: 0px 1px 2px rgba(60, 64, 67, 0.3), 0px 1px 3px 1px rgba(60, 64, 67, 0.15);\n",
              "      fill: #174EA6;\n",
              "    }\n",
              "\n",
              "    [theme=dark] .colab-df-convert {\n",
              "      background-color: #3B4455;\n",
              "      fill: #D2E3FC;\n",
              "    }\n",
              "\n",
              "    [theme=dark] .colab-df-convert:hover {\n",
              "      background-color: #434B5C;\n",
              "      box-shadow: 0px 1px 3px 1px rgba(0, 0, 0, 0.15);\n",
              "      filter: drop-shadow(0px 1px 2px rgba(0, 0, 0, 0.3));\n",
              "      fill: #FFFFFF;\n",
              "    }\n",
              "  </style>\n",
              "\n",
              "      <script>\n",
              "        const buttonEl =\n",
              "          document.querySelector('#df-f29a2d69-6aaf-449f-a15e-4eefdb6bf377 button.colab-df-convert');\n",
              "        buttonEl.style.display =\n",
              "          google.colab.kernel.accessAllowed ? 'block' : 'none';\n",
              "\n",
              "        async function convertToInteractive(key) {\n",
              "          const element = document.querySelector('#df-f29a2d69-6aaf-449f-a15e-4eefdb6bf377');\n",
              "          const dataTable =\n",
              "            await google.colab.kernel.invokeFunction('convertToInteractive',\n",
              "                                                     [key], {});\n",
              "          if (!dataTable) return;\n",
              "\n",
              "          const docLinkHtml = 'Like what you see? Visit the ' +\n",
              "            '<a target=\"_blank\" href=https://colab.research.google.com/notebooks/data_table.ipynb>data table notebook</a>'\n",
              "            + ' to learn more about interactive tables.';\n",
              "          element.innerHTML = '';\n",
              "          dataTable['output_type'] = 'display_data';\n",
              "          await google.colab.output.renderOutput(dataTable, element);\n",
              "          const docLink = document.createElement('div');\n",
              "          docLink.innerHTML = docLinkHtml;\n",
              "          element.appendChild(docLink);\n",
              "        }\n",
              "      </script>\n",
              "    </div>\n",
              "  </div>\n",
              "  "
            ]
          },
          "metadata": {},
          "execution_count": 56
        }
      ]
    },
    {
      "cell_type": "markdown",
      "source": [
        "### Average Precision@K - AP@K"
      ],
      "metadata": {
        "id": "y3zHI6pjvwsQ"
      }
    },
    {
      "cell_type": "code",
      "source": [
        "def avg_precision_at_k(doc_score, y_score, k=10):\n",
        "    \"\"\"\n",
        "    Parameters\n",
        "    ----------\n",
        "    doc_score: Ground truth (true relevance labels).\n",
        "    y_score: Predicted scores.\n",
        "    k : number of doc to consider.\n",
        "\n",
        "    Returns\n",
        "    -------\n",
        "    average precision @k : float\n",
        "    \"\"\"\n",
        "    gtp = np.sum(doc_score == 1)\n",
        "    order = np.argsort(y_score)[::-1]\n",
        "    doc_score = np.take(doc_score, order[:k])\n",
        "    ## if all documents are not relevant\n",
        "    if gtp == 0:\n",
        "        return 0\n",
        "    n_relevant_at_i = 0\n",
        "    prec_at_i = 0\n",
        "    for i in range(len(doc_score)):\n",
        "        if doc_score[i] == 1:\n",
        "            n_relevant_at_i += 1\n",
        "            prec_at_i += n_relevant_at_i / (i + 1)\n",
        "    return prec_at_i / gtp"
      ],
      "metadata": {
        "id": "8EwaznXakFEN"
      },
      "execution_count": null,
      "outputs": []
    },
    {
      "cell_type": "code",
      "source": [
        "k = 20\n",
        "for i in range(1,6):\n",
        "  current_query = i\n",
        "  current_query_res = search_results[search_results[\"query_id\"] == current_query]\n",
        "  print(\"==> Query {}:\\n\\tAverage Precision@{}: {}\\n\".format(i, k, avg_precision_at_k(np.array(current_query_res[\"label\"]), np.array(current_query_res[\"predicted_relevance\"]), k)))"
      ],
      "metadata": {
        "colab": {
          "base_uri": "https://localhost:8080/"
        },
        "id": "47YlDANOwhSo",
        "outputId": "079ba2dd-a34d-4fe5-d400-c7f806a94e48"
      },
      "execution_count": null,
      "outputs": [
        {
          "output_type": "stream",
          "name": "stdout",
          "text": [
            "==> Query 1:\n",
            "\tAverage Precision@20: 0.738048245614035\n",
            "\n",
            "==> Query 2:\n",
            "\tAverage Precision@20: 0.9200680272108842\n",
            "\n",
            "==> Query 3:\n",
            "\tAverage Precision@20: 0.961640598924336\n",
            "\n",
            "==> Query 4:\n",
            "\tAverage Precision@20: 0.8214777512112074\n",
            "\n",
            "==> Query 5:\n",
            "\tAverage Precision@20: 0.8848988837959425\n",
            "\n"
          ]
        }
      ]
    },
    {
      "cell_type": "markdown",
      "source": [
        "### Average Recall@K - AR@K"
      ],
      "metadata": {
        "id": "f73aMnHzwnZr"
      }
    },
    {
      "cell_type": "code",
      "source": [
        "def avg_recall_at_k(doc_score, y_score, k=10):\n",
        "    \"\"\"\n",
        "    Parameters\n",
        "    ----------\n",
        "    doc_score: Ground truth (true relevance labels).\n",
        "    y_score: Predicted scores.\n",
        "    k : number of doc to consider.\n",
        "\n",
        "    Returns\n",
        "    -------\n",
        "    average recall @k : float\n",
        "    \"\"\"\n",
        "    gtp = np.sum(doc_score == 1)\n",
        "    max_doc = doc_score.sum()\n",
        "    order = np.argsort(y_score)[::-1]\n",
        "    doc_score = np.take(doc_score, order[:k])\n",
        "    ## if all documents are not relevant\n",
        "    if gtp == 0:\n",
        "        return 0\n",
        "    n_relevant_at_i = 0\n",
        "    prec_at_i = 0\n",
        "    for i in range(len(doc_score)):\n",
        "        if doc_score[i] == 1:\n",
        "            n_relevant_at_i += 1\n",
        "            prec_at_i += n_relevant_at_i / max_doc\n",
        "    return prec_at_i / gtp"
      ],
      "metadata": {
        "id": "RspYBZPFwuyI"
      },
      "execution_count": null,
      "outputs": []
    },
    {
      "cell_type": "code",
      "source": [
        "k = 20\n",
        "for i in range(1,6):\n",
        "  current_query = i\n",
        "  current_query_res = search_results[search_results[\"query_id\"] == current_query]\n",
        "  print(\"==> Query {}:\\n\\tAverage Recall@{}: {}\\n\".format(i, k, avg_recall_at_k(np.array(current_query_res[\"label\"]), np.array(current_query_res[\"predicted_relevance\"]), k)))"
      ],
      "metadata": {
        "colab": {
          "base_uri": "https://localhost:8080/"
        },
        "id": "tqIH4yb0xw3V",
        "outputId": "7e6ff0f6-1fa8-4a9a-db68-d8703b92c33c"
      },
      "execution_count": null,
      "outputs": [
        {
          "output_type": "stream",
          "name": "stdout",
          "text": [
            "==> Query 1:\n",
            "\tAverage Precision@20: 0.5833333333333334\n",
            "\n",
            "==> Query 2:\n",
            "\tAverage Precision@20: 0.5714285714285714\n",
            "\n",
            "==> Query 3:\n",
            "\tAverage Precision@20: 0.5294117647058824\n",
            "\n",
            "==> Query 4:\n",
            "\tAverage Precision@20: 0.53125\n",
            "\n",
            "==> Query 5:\n",
            "\tAverage Precision@20: 0.5357142857142857\n",
            "\n"
          ]
        }
      ]
    },
    {
      "cell_type": "markdown",
      "source": [
        "### F1-Score"
      ],
      "metadata": {
        "id": "FbUfG4Cety_p"
      }
    },
    {
      "cell_type": "code",
      "source": [
        "def f1_score(doc_score, y_score):\n",
        "  k = len(doc_score)\n",
        "  P = avg_precision_at_k(doc_score, y_score, k)\n",
        "  R = avg_recall_at_k(doc_score, y_score, k)\n",
        "  return (2*P*R)/(P+R)"
      ],
      "metadata": {
        "id": "dc9vJHJct2mh"
      },
      "execution_count": null,
      "outputs": []
    },
    {
      "cell_type": "code",
      "source": [
        "for i in range(1,6):\n",
        "  current_query = i\n",
        "  current_query_res = search_results[search_results[\"query_id\"] == current_query]\n",
        "  print(\"==> Query {}:\\n\\tF1-Score: {}\\n\".format(i, f1_score(np.array(current_query_res[\"label\"]), np.array(current_query_res[\"predicted_relevance\"]))))"
      ],
      "metadata": {
        "colab": {
          "base_uri": "https://localhost:8080/"
        },
        "id": "qrWMMTyUx4nr",
        "outputId": "1fea866c-f5f7-4c57-b009-0876df58f433"
      },
      "execution_count": null,
      "outputs": [
        {
          "output_type": "stream",
          "name": "stdout",
          "text": [
            "==> Query 1:\n",
            "\tF1-Score: 0.6516333360993555\n",
            "\n",
            "==> Query 2:\n",
            "\tF1-Score: 0.7050008144648965\n",
            "\n",
            "==> Query 3:\n",
            "\tF1-Score: 0.6828785613536137\n",
            "\n",
            "==> Query 4:\n",
            "\tF1-Score: 0.6452296922868632\n",
            "\n",
            "==> Query 5:\n",
            "\tF1-Score: 0.6673920580724265\n",
            "\n"
          ]
        }
      ]
    },
    {
      "cell_type": "markdown",
      "source": [
        "### Mean Average Precision (mAP)"
      ],
      "metadata": {
        "id": "q4l0I4xOm6L6"
      }
    },
    {
      "cell_type": "code",
      "source": [
        "def map_at_k(search_res, k=10):\n",
        "    \"\"\"\n",
        "    Parameters\n",
        "    ----------\n",
        "    search_res: search results dataset containing:\n",
        "        query_id: query id.\n",
        "        doc_id: document id.\n",
        "        predicted_relevance: relevance predicted through LightGBM.\n",
        "        doc_score: actual score of the document for the query (ground truth).\n",
        "\n",
        "    Returns\n",
        "    -------\n",
        "    mean average precision @ k : float\n",
        "    \"\"\"\n",
        "    avp = []\n",
        "    for q in search_res[\"query_id\"].unique():  # loop over all query id\n",
        "        curr_data = search_res[search_res[\"query_id\"] == q]  # select data for current query\n",
        "        avp.append(avg_precision_at_k(np.array(curr_data[\"label\"]),\n",
        "                                      np.array(curr_data[\"predicted_relevance\"]), k))  #append average precision for current query\n",
        "    return np.sum(avp) / len(avp), avp  # return mean average precision"
      ],
      "metadata": {
        "id": "5vPo0eBEmwTo"
      },
      "execution_count": null,
      "outputs": []
    },
    {
      "cell_type": "code",
      "source": [
        "k=10\n",
        "map_k, avp = map_at_k(search_results, k)\n",
        "\n",
        "print(\"==> Mean Average Precision (of k={}): {}\\n\".format(k, map_k))"
      ],
      "metadata": {
        "colab": {
          "base_uri": "https://localhost:8080/"
        },
        "id": "LZOMZXVInEXk",
        "outputId": "2253f281-46ef-4aa2-e5ec-a2aa561a4cbe"
      },
      "execution_count": null,
      "outputs": [
        {
          "output_type": "stream",
          "name": "stdout",
          "text": [
            "==> Mean Average Precision (of k=10): 0.6109562991863411\n",
            "\n"
          ]
        }
      ]
    },
    {
      "cell_type": "markdown",
      "source": [
        "### Mean Reciprocal Rank (MRR)"
      ],
      "metadata": {
        "id": "tWwSaa7onO_c"
      }
    },
    {
      "cell_type": "code",
      "source": [
        "def rr_at_k(doc_score, y_score, k=10):\n",
        "    \"\"\"\n",
        "    Parameters\n",
        "    ----------\n",
        "    doc_score: Ground truth (true relevance labels).\n",
        "    y_score: Predicted scores.\n",
        "    k : number of doc to consider.\n",
        "\n",
        "    Returns\n",
        "    -------\n",
        "    Reciprocal Rank for qurrent query\n",
        "    \"\"\"\n",
        "\n",
        "    order = np.argsort(y_score)[::-1] # get the list of indexes of the predicted score sorted in descending order.\n",
        "    doc_score = np.take(doc_score, order[:k])  # sort the actual relevance label of the documents based on predicted score(hint: np.take) and take first k.\n",
        "    if np.sum(doc_score) == 0:  # if there are not relevant doument return 0\n",
        "        return 0\n",
        "    return 1 / (np.argmax(doc_score == 1) + 1)  # hint: to get the position of the first relevant document use \"np.argmax\""
      ],
      "metadata": {
        "id": "D3sTlJBpnGEx"
      },
      "execution_count": null,
      "outputs": []
    },
    {
      "cell_type": "code",
      "source": [
        "def mrr_at_k(search_results, k):\n",
        "    RRs = []\n",
        "    for q in search_results[\"query_id\"].unique():  # loop over all query ids\n",
        "        labels = np.array(search_results[search_results['query_id'] == q][\"label\"])  # get labels for current query\n",
        "        scores = np.array(search_results[search_results['query_id'] == q][\"predicted_relevance\"])  # get predicted score for current query\n",
        "        RRs.append(rr_at_k(labels, scores, k))  # append RR for current query\n",
        "    return np.round(float(sum(RRs) / len(RRs)), 4)  # Mean RR at current k"
      ],
      "metadata": {
        "id": "_hF39jAizO_j"
      },
      "execution_count": null,
      "outputs": []
    },
    {
      "cell_type": "code",
      "source": [
        "k=10\n",
        "mrr_k = mrr_at_k(search_results, k)\n",
        "\n",
        "print(\"==> Mean Reciprocal Rank (of k={}): {}\\n\".format(k, mrr_k))"
      ],
      "metadata": {
        "colab": {
          "base_uri": "https://localhost:8080/"
        },
        "id": "6X2R7M0OnvPj",
        "outputId": "ba3b6b8f-6bbe-4612-dfc7-0a6b5ff923ae"
      },
      "execution_count": null,
      "outputs": [
        {
          "output_type": "stream",
          "name": "stdout",
          "text": [
            "==> Mean Reciprocal Rank (of k=10): 1.0\n",
            "\n"
          ]
        }
      ]
    },
    {
      "cell_type": "markdown",
      "source": [
        "### Normalized Discounted Cumulative Gain (NDCG)"
      ],
      "metadata": {
        "id": "VjGQqYVeoFtA"
      }
    },
    {
      "cell_type": "code",
      "source": [
        "def dcg_at_k(doc_score, y_score, k=10):\n",
        "    order = np.argsort(y_score)[::-1]  # get the list of indexes of the predicted score sorted in descending order.\n",
        "    doc_score = np.take(doc_score, order[:k])  # sort the actual relevance label of the documents based on predicted score(hint: np.take) and take first k.\n",
        "    gain = 2 ** doc_score -1  # Compute gain (use formula 7 above)\n",
        "    discounts = np.log2(np.arange(len(doc_score)) + 2)  # Compute denominator\n",
        "    return np.sum(gain / discounts)  #return dcg@k\n",
        "\n",
        "\n",
        "def ndcg_at_k(doc_score, y_score, k=10):\n",
        "    dcg_max = dcg_at_k(doc_score, doc_score, k) # Ideal dcg\n",
        "    if not dcg_max:\n",
        "        return 0\n",
        "    return np.round(dcg_at_k(doc_score, y_score, k) / dcg_max, 4) # return ndcg@k"
      ],
      "metadata": {
        "id": "ti_6dEa4n05y"
      },
      "execution_count": null,
      "outputs": []
    },
    {
      "cell_type": "code",
      "source": [
        "query_id = 2\n",
        "k = 10\n",
        "labels = np.array(search_results[search_results['query_id'] == query_id][\"doc_score\"])\n",
        "scores = np.array(search_results[search_results['query_id'] == query_id][\"predicted_relevance\"])\n",
        "ndcg_k = np.round(ndcg_at_k(labels, scores, k), 4)\n",
        "print(\"ndcg@{} for query with query_id={}: {}\".format(k, query_id, ndcg_k))"
      ],
      "metadata": {
        "id": "Xt_7F02XoJ7f",
        "colab": {
          "base_uri": "https://localhost:8080/"
        },
        "outputId": "c68bea4f-1ffb-4de1-cbb5-b56454d26654"
      },
      "execution_count": null,
      "outputs": [
        {
          "output_type": "stream",
          "name": "stdout",
          "text": [
            "ndcg@10 for query with query_id=2: 0.7386\n"
          ]
        }
      ]
    },
    {
      "cell_type": "code",
      "source": [
        "k = 10\n",
        "for i in range(1,6):\n",
        "  query_id = i\n",
        "  labels = np.array(search_results[search_results['query_id'] == query_id][\"doc_score\"])\n",
        "  scores = np.array(search_results[search_results['query_id'] == query_id][\"predicted_relevance\"])\n",
        "  ndcg_k = np.round(ndcg_at_k(labels, scores, k), 4)\n",
        "  print(\"==> Query {}:\\n\\tndcg@{}: {}\\n\".format(i, k, ndcg_k))"
      ],
      "metadata": {
        "colab": {
          "base_uri": "https://localhost:8080/"
        },
        "id": "gVmr2onr0QLt",
        "outputId": "85ced818-2b8b-4e5a-ca14-4251717f7333"
      },
      "execution_count": null,
      "outputs": [
        {
          "output_type": "stream",
          "name": "stdout",
          "text": [
            "==> Query 1:\n",
            "\tndcg@10: 0.5703\n",
            "\n",
            "==> Query 2:\n",
            "\tndcg@10: 0.7386\n",
            "\n",
            "==> Query 3:\n",
            "\tndcg@10: 0.8158\n",
            "\n",
            "==> Query 4:\n",
            "\tndcg@10: 0.7372\n",
            "\n",
            "==> Query 5:\n",
            "\tndcg@10: 0.8343\n",
            "\n"
          ]
        }
      ]
    },
    {
      "cell_type": "code",
      "source": [
        "def avg_ndcg_at_k(search_results, k=10):\n",
        "  ndcgs = []\n",
        "  for q in search_results[\"query_id\"].unique(): # loop over all query ids\n",
        "    labels = np.array(search_results[search_results['query_id'] == q][\"doc_score\"]) ## get labels for current query\n",
        "    scores = np.array(search_results[search_results['query_id'] == q][\"predicted_relevance\"]) # get predicted score for current query\n",
        "    ndcgs.append(np.round(ndcg_at_k(labels, scores, k), 4)) # append NDCG for current query\n",
        "\n",
        "  return np.round(float(sum(ndcgs) / len(ndcgs)), 4) # Compute average NDCG"
      ],
      "metadata": {
        "id": "U_wQQV4D1BTQ"
      },
      "execution_count": null,
      "outputs": []
    },
    {
      "cell_type": "code",
      "source": [
        "k = 10\n",
        "\n",
        "avg_ndcg = avg_ndcg_at_k(search_results, k)\n",
        "print(\"==> Average ndcg@{}: {}\\n\".format(k, avg_ndcg))"
      ],
      "metadata": {
        "id": "Vb2u1XuvoM4j",
        "colab": {
          "base_uri": "https://localhost:8080/"
        },
        "outputId": "3be8bd50-d6b3-47ee-987d-7f4b274f6fc3"
      },
      "execution_count": null,
      "outputs": [
        {
          "output_type": "stream",
          "name": "stdout",
          "text": [
            "==> Average ndcg@10: 0.7392\n",
            "\n"
          ]
        }
      ]
    },
    {
      "cell_type": "code",
      "source": [],
      "metadata": {
        "id": "lS2YBEZD1iXg"
      },
      "execution_count": null,
      "outputs": []
    }
  ]
}